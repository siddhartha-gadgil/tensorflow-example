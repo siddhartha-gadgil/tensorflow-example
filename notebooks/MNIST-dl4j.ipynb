{
 "cells": [
  {
   "cell_type": "markdown",
   "metadata": {},
   "source": [
    "# MNIST in deeplearning4j"
   ]
  },
  {
   "cell_type": "code",
   "execution_count": 1,
   "metadata": {},
   "outputs": [
    {
     "data": {
      "text/plain": [
       "\u001b[32mimport \u001b[39m\u001b[36m$ivy.$                                                   \u001b[39m"
      ]
     },
     "execution_count": 1,
     "metadata": {},
     "output_type": "execute_result"
    }
   ],
   "source": [
    "import $ivy.`org.deeplearning4j:deeplearning4j-core:1.0.0-beta6`"
   ]
  },
  {
   "cell_type": "code",
   "execution_count": 2,
   "metadata": {},
   "outputs": [
    {
     "data": {
      "text/plain": [
       "\u001b[32mimport \u001b[39m\u001b[36m$ivy.$                                          \u001b[39m"
      ]
     },
     "execution_count": 2,
     "metadata": {},
     "output_type": "execute_result"
    }
   ],
   "source": [
    "import $ivy.`org.nd4j:nd4j-native-platform:1.0.0-beta6`"
   ]
  },
  {
   "cell_type": "code",
   "execution_count": 3,
   "metadata": {},
   "outputs": [
    {
     "data": {
      "text/plain": [
       "\u001b[32mimport \u001b[39m\u001b[36m$ivy.$                                    \u001b[39m"
      ]
     },
     "execution_count": 3,
     "metadata": {},
     "output_type": "execute_result"
    }
   ],
   "source": [
    "import $ivy.`org.datavec:datavec-api:1.0.0-beta6`"
   ]
  },
  {
   "cell_type": "code",
   "execution_count": 4,
   "metadata": {},
   "outputs": [
    {
     "data": {
      "text/plain": [
       "\u001b[32mimport \u001b[39m\u001b[36mscala.jdk.CollectionConverters._\n",
       "\u001b[39m\n",
       "\u001b[32mimport \u001b[39m\u001b[36morg.deeplearning4j.datasets.iterator._\n",
       "\u001b[39m\n",
       "\u001b[32mimport \u001b[39m\u001b[36morg.deeplearning4j.datasets.iterator.impl._\n",
       "\u001b[39m\n",
       "\u001b[32mimport \u001b[39m\u001b[36morg.deeplearning4j.nn.api._\n",
       "\u001b[39m\n",
       "\u001b[32mimport \u001b[39m\u001b[36morg.deeplearning4j.nn.multilayer._\n",
       "\u001b[39m\n",
       "\u001b[32mimport \u001b[39m\u001b[36morg.deeplearning4j.nn.graph._\n",
       "\u001b[39m\n",
       "\u001b[32mimport \u001b[39m\u001b[36morg.deeplearning4j.nn.conf._\n",
       "\u001b[39m\n",
       "\u001b[32mimport \u001b[39m\u001b[36morg.deeplearning4j.nn.conf.inputs._\n",
       "\u001b[39m\n",
       "\u001b[32mimport \u001b[39m\u001b[36morg.deeplearning4j.nn.conf.layers._\n",
       "\u001b[39m\n",
       "\u001b[32mimport \u001b[39m\u001b[36morg.deeplearning4j.nn.weights._\n",
       "\u001b[39m\n",
       "\u001b[32mimport \u001b[39m\u001b[36morg.deeplearning4j.optimize.listeners._\n",
       "\u001b[39m\n",
       "\u001b[32mimport \u001b[39m\u001b[36morg.deeplearning4j.datasets.datavec.RecordReaderMultiDataSetIterator\n",
       "\u001b[39m\n",
       "\u001b[32mimport \u001b[39m\u001b[36morg.nd4j.evaluation.classification._\n",
       "\n",
       "\u001b[39m\n",
       "\u001b[32mimport \u001b[39m\u001b[36morg.nd4j.linalg.learning.config._ // for different updaters like Adam, Nesterovs, etc.\n",
       "\u001b[39m\n",
       "\u001b[32mimport \u001b[39m\u001b[36morg.nd4j.linalg.activations.Activation // defines different activation functions like RELU, SOFTMAX, etc.\n",
       "\u001b[39m\n",
       "\u001b[32mimport \u001b[39m\u001b[36morg.nd4j.linalg.lossfunctions.LossFunctions // mean squared error, multiclass cross entropy, etc.\u001b[39m"
      ]
     },
     "execution_count": 4,
     "metadata": {},
     "output_type": "execute_result"
    }
   ],
   "source": [
    "import scala.jdk.CollectionConverters._\n",
    "import org.deeplearning4j.datasets.iterator._\n",
    "import org.deeplearning4j.datasets.iterator.impl._\n",
    "import org.deeplearning4j.nn.api._\n",
    "import org.deeplearning4j.nn.multilayer._\n",
    "import org.deeplearning4j.nn.graph._\n",
    "import org.deeplearning4j.nn.conf._\n",
    "import org.deeplearning4j.nn.conf.inputs._\n",
    "import org.deeplearning4j.nn.conf.layers._\n",
    "import org.deeplearning4j.nn.weights._\n",
    "import org.deeplearning4j.optimize.listeners._\n",
    "import org.deeplearning4j.datasets.datavec.RecordReaderMultiDataSetIterator\n",
    "import org.nd4j.evaluation.classification._\n",
    "\n",
    "import org.nd4j.linalg.learning.config._ // for different updaters like Adam, Nesterovs, etc.\n",
    "import org.nd4j.linalg.activations.Activation // defines different activation functions like RELU, SOFTMAX, etc.\n",
    "import org.nd4j.linalg.lossfunctions.LossFunctions // mean squared error, multiclass cross entropy, etc."
   ]
  },
  {
   "cell_type": "code",
   "execution_count": 5,
   "metadata": {},
   "outputs": [
    {
     "data": {
      "text/plain": [
       "\u001b[32mimport \u001b[39m\u001b[36morg.deeplearning4j.datasets.iterator.impl.EmnistDataSetIterator\u001b[39m"
      ]
     },
     "execution_count": 5,
     "metadata": {},
     "output_type": "execute_result"
    }
   ],
   "source": [
    "import org.deeplearning4j.datasets.iterator.impl.EmnistDataSetIterator"
   ]
  },
  {
   "cell_type": "code",
   "execution_count": 6,
   "metadata": {},
   "outputs": [
    {
     "name": "stderr",
     "output_type": "stream",
     "text": [
      "SLF4J: Failed to load class \"org.slf4j.impl.StaticLoggerBinder\".\n",
      "SLF4J: Defaulting to no-operation (NOP) logger implementation\n",
      "SLF4J: See http://www.slf4j.org/codes.html#StaticLoggerBinder for further details.\n"
     ]
    },
    {
     "data": {
      "text/plain": [
       "\u001b[36mbatchSize\u001b[39m: \u001b[32mInt\u001b[39m = \u001b[32m128\u001b[39m\n",
       "\u001b[36memnistSet\u001b[39m: \u001b[32mEmnistDataSetIterator\u001b[39m.\u001b[32mSet\u001b[39m = BALANCED\n",
       "\u001b[36memnistTrain\u001b[39m: \u001b[32mEmnistDataSetIterator\u001b[39m = org.deeplearning4j.datasets.iterator.impl.EmnistDataSetIterator@7ab761ae\n",
       "\u001b[36memnistTest\u001b[39m: \u001b[32mEmnistDataSetIterator\u001b[39m = org.deeplearning4j.datasets.iterator.impl.EmnistDataSetIterator@24eb396f"
      ]
     },
     "execution_count": 6,
     "metadata": {},
     "output_type": "execute_result"
    }
   ],
   "source": [
    "val batchSize = 128 // how many examples to simultaneously train in the network\n",
    "val emnistSet = EmnistDataSetIterator.Set.BALANCED\n",
    "val emnistTrain = new EmnistDataSetIterator(emnistSet, batchSize, true)\n",
    "val emnistTest = new EmnistDataSetIterator(emnistSet, batchSize, false)"
   ]
  },
  {
   "cell_type": "code",
   "execution_count": 7,
   "metadata": {},
   "outputs": [
    {
     "data": {
      "text/plain": [
       "\u001b[36moutputNum\u001b[39m: \u001b[32mInt\u001b[39m = \u001b[32m47\u001b[39m\n",
       "\u001b[36mrngSeed\u001b[39m: \u001b[32mInt\u001b[39m = \u001b[32m123\u001b[39m\n",
       "\u001b[36mnumRows\u001b[39m: \u001b[32mInt\u001b[39m = \u001b[32m28\u001b[39m\n",
       "\u001b[36mnumColumns\u001b[39m: \u001b[32mInt\u001b[39m = \u001b[32m28\u001b[39m\n",
       "\u001b[36mconf\u001b[39m: \u001b[32mMultiLayerConfiguration\u001b[39m = {\n",
       "  \"backpropType\" : \"Standard\",\n",
       "  \"cacheMode\" : \"NONE\",\n",
       "  \"confs\" : [ {\n",
       "    \"cacheMode\" : \"NONE\",\n",
       "    \"dataType\" : \"FLOAT\",\n",
       "    \"epochCount\" : 0,\n",
       "    \"iterationCount\" : 0,\n",
       "    \"layer\" : {\n",
       "      \"@class\" : \"org.deeplearning4j.nn.conf.layers.DenseLayer\",\n",
       "      \"activationFn\" : {\n",
       "        \"@class\" : \"org.nd4j.linalg.activations.impl.ActivationReLU\"\n",
       "      },\n",
       "      \"biasInit\" : 0.0,\n",
       "      \"biasUpdater\" : null,\n",
       "      \"constraints\" : null,\n",
       "      \"gainInit\" : 1.0,\n",
       "      \"gradientNormalization\" : \"None\",\n",
       "      \"gradientNormalizationThreshold\" : 1.0,\n",
       "      \"hasBias\" : true,\n",
       "      \"hasLayerNorm\" : false,\n",
       "      \"idropout\" : null,\n",
       "      \"iupdater\" : {\n",
       "        \"@class\" : \"org.nd4j.linalg.learning.config.Adam\",\n",
       "        \"beta1\" : 0.9,\n",
       "        \"beta2\" : 0.999,\n",
       "        \"epsilon\" : 1.0E-8,\n",
       "        \"learningRate\" : 0.001\n",
       "      },\n",
       "      \"layerName\" : \"layer0\",\n",
       "      \"nin\" : 784,\n",
       "      \"nout\" : 1000,\n",
       "      \"regularization\" : [ {\n",
       "        \"@class\" : \"org.nd4j.linalg.learning.regularization.L2Regularization\",\n",
       "        \"l2\" : {\n",
       "          \"@class\" : \"org.nd4j.linalg.schedule.FixedSchedule\",\n",
       "          \"value\" : 1.0E-4\n",
       "        }\n",
       "      } ],\n",
       "..."
      ]
     },
     "execution_count": 7,
     "metadata": {},
     "output_type": "execute_result"
    }
   ],
   "source": [
    "val outputNum = EmnistDataSetIterator.numLabels(emnistSet) // total output classes\n",
    "val rngSeed = 123 // integer for reproducability of a random number generator\n",
    "val numRows = 28 // number of \"pixel rows\" in an mnist digit\n",
    "val numColumns = 28\n",
    "\n",
    "val conf = new NeuralNetConfiguration.Builder()\n",
    "            .seed(rngSeed)\n",
    "            .updater(new Adam())\n",
    "            .l2(1e-4)\n",
    "            .list()\n",
    "            .layer(new DenseLayer.Builder()\n",
    "                .nIn(numRows * numColumns) // Number of input datapoints.\n",
    "                .nOut(1000) // Number of output datapoints.\n",
    "                .activation(Activation.RELU) // Activation function.\n",
    "                .weightInit(WeightInit.XAVIER) // Weight initialization.\n",
    "                .build())\n",
    "            .layer(new OutputLayer.Builder(LossFunctions.LossFunction.NEGATIVELOGLIKELIHOOD)\n",
    "                .nIn(1000)\n",
    "                .nOut(outputNum)\n",
    "                .activation(Activation.SOFTMAX)\n",
    "                .weightInit(WeightInit.XAVIER)\n",
    "                .build())\n",
    "            .build()"
   ]
  },
  {
   "cell_type": "code",
   "execution_count": 8,
   "metadata": {},
   "outputs": [
    {
     "data": {
      "text/plain": [
       "\u001b[36mnetwork\u001b[39m: \u001b[32mMultiLayerNetwork\u001b[39m = org.deeplearning4j.nn.multilayer.MultiLayerNetwork@7dd5bad7"
      ]
     },
     "execution_count": 8,
     "metadata": {},
     "output_type": "execute_result"
    }
   ],
   "source": [
    "val network = new MultiLayerNetwork(conf)\n",
    "network.init()\n"
   ]
  },
  {
   "cell_type": "code",
   "execution_count": 9,
   "metadata": {},
   "outputs": [
    {
     "data": {
      "text/plain": [
       "\u001b[36mres8\u001b[39m: \u001b[32mArray\u001b[39m[\u001b[32morg\u001b[39m.\u001b[32mdeeplearning4j\u001b[39m.\u001b[32mnn\u001b[39m.\u001b[32mapi\u001b[39m.\u001b[32mLayer\u001b[39m] = \u001b[33mArray\u001b[39m(\n",
       "  org.deeplearning4j.nn.layers.feedforward.dense.DenseLayer{conf=NeuralNetConfiguration(layer=DenseLayer(super=FeedForwardLayer(super=BaseLayer(activationFn=relu, weightInitFn=org.deeplearning4j.nn.weights.WeightInitXavier@1, biasInit=0.0, gainInit=1.0, regularization=[L2Regularization(l2=FixedSchedule(value=1.0E-4))], regularizationBias=[], iUpdater=Adam(learningRate=0.001, learningRateSchedule=null, beta1=0.9, beta2=0.999, epsilon=1.0E-8), biasUpdater=null, weightNoise=null, gradientNormalization=None, gradientNormalizationThreshold=1.0), nIn=784, nOut=1000), hasLayerNorm=false, hasBias=true), miniBatch=true, maxNumLineSearchIterations=5, seed=123, optimizationAlgo=STOCHASTIC_GRADIENT_DESCENT, variables=[W, b], stepFunction=null, minimize=true, cacheMode=NONE, dataType=FLOAT, iterationCount=0, epochCount=0), score=0.0, optimizer=null, listeners=[]},\n",
       "  org.deeplearning4j.nn.layers.OutputLayer{conf=NeuralNetConfiguration(layer=OutputLayer(super=BaseOutputLayer(super=FeedForwardLayer(super=BaseLayer(activationFn=softmax, weightInitFn=org.deeplearning4j.nn.weights.WeightInitXavier@1, biasInit=0.0, gainInit=1.0, regularization=[L2Regularization(l2=FixedSchedule(value=1.0E-4))], regularizationBias=[], iUpdater=Adam(learningRate=0.001, learningRateSchedule=null, beta1=0.9, beta2=0.999, epsilon=1.0E-8), biasUpdater=null, weightNoise=null, gradientNormalization=None, gradientNormalizationThreshold=1.0), nIn=1000, nOut=47), lossFn=LossNegativeLogLikelihood(), hasBias=true)), miniBatch=true, maxNumLineSearchIterations=5, seed=123, optimizationAlgo=STOCHASTIC_GRADIENT_DESCENT, variables=[W, b], stepFunction=null, minimize=true, cacheMode=NONE, dataType=FLOAT, iterationCount=0, epochCount=0), score=0.0, optimizer=null, listeners=[]}\n",
       ")"
      ]
     },
     "execution_count": 9,
     "metadata": {},
     "output_type": "execute_result"
    }
   ],
   "source": [
    "network.getLayers"
   ]
  },
  {
   "cell_type": "code",
   "execution_count": 10,
   "metadata": {},
   "outputs": [
    {
     "data": {
      "text/plain": [
       "\u001b[36mres9\u001b[39m: \u001b[32mjava\u001b[39m.\u001b[32mutil\u001b[39m.\u001b[32mMap\u001b[39m[\u001b[32mString\u001b[39m, \u001b[32morg\u001b[39m.\u001b[32mbytedeco\u001b[39m.\u001b[32mjavacpp\u001b[39m.\u001b[32mPointer\u001b[39m] = {}"
      ]
     },
     "execution_count": 10,
     "metadata": {},
     "output_type": "execute_result"
    }
   ],
   "source": [
    "network.getHelperWorkspaces"
   ]
  },
  {
   "cell_type": "code",
   "execution_count": 11,
   "metadata": {},
   "outputs": [
    {
     "data": {
      "text/plain": [
       "\u001b[36meachIterations\u001b[39m: \u001b[32mInt\u001b[39m = \u001b[32m10\u001b[39m"
      ]
     },
     "execution_count": 11,
     "metadata": {},
     "output_type": "execute_result"
    }
   ],
   "source": [
    "// pass a training listener that reports score every 10 iterations\n",
    "val eachIterations = 10\n",
    "network.addListeners(new ScoreIterationListener(eachIterations))\n"
   ]
  },
  {
   "cell_type": "code",
   "execution_count": 12,
   "metadata": {},
   "outputs": [
    {
     "name": "stdout",
     "output_type": "stream",
     "text": [
      "0.020691489361702127\n",
      "0.02064794642491415\n",
      "0.020691489361702124\n"
     ]
    },
    {
     "data": {
      "text/plain": [
       "\u001b[36meval\u001b[39m: \u001b[32mEvaluation\u001b[39m = \n",
       "\n",
       "========================Evaluation Metrics========================\n",
       " # of classes:    47\n",
       " Accuracy:        0.0207\n",
       " Precision:       0.0206\t(8 classes excluded from average)\n",
       " Recall:          0.0207\n",
       " F1 Score:        0.0127\t(8 classes excluded from average)\n",
       "Precision, recall & F1: macro-averaged (equally weighted avg. of 47 classes)\n",
       "\n",
       "Warning: 8 classes were never predicted by the model and were excluded from average precision\n",
       "Classes excluded from average precision: [1, 3, 9, 17, 26, 30, 42, 45]\n",
       "\n",
       "\n",
       "Note: Confusion matrix not generated due to space requirements for 47 classes.\n",
       "Use stats(false,true) to generate anyway\n",
       "=================================================================="
      ]
     },
     "execution_count": 12,
     "metadata": {},
     "output_type": "execute_result"
    }
   ],
   "source": [
    "val eval = network.evaluate[Evaluation](emnistTest)\n",
    "println(eval.accuracy())\n",
    "println(eval.precision())\n",
    "println(eval.recall())\n"
   ]
  },
  {
   "cell_type": "code",
   "execution_count": 13,
   "metadata": {},
   "outputs": [
    {
     "data": {
      "text/plain": [
       "\u001b[36mroc\u001b[39m: \u001b[32mROCMultiClass\u001b[39m = ROCMultiClass()"
      ]
     },
     "execution_count": 13,
     "metadata": {},
     "output_type": "execute_result"
    }
   ],
   "source": [
    "val roc = network.evaluateROCMultiClass[ROCMultiClass](emnistTest, 0)"
   ]
  },
  {
   "cell_type": "code",
   "execution_count": 14,
   "metadata": {},
   "outputs": [
    {
     "name": "stdout",
     "output_type": "stream",
     "text": [
      "\n",
      "\n",
      "========================Evaluation Metrics========================\n",
      " # of classes:    47\n",
      " Accuracy:        0.0207\n",
      " Precision:       0.0206\t(8 classes excluded from average)\n",
      " Recall:          0.0207\n",
      " F1 Score:        0.0127\t(8 classes excluded from average)\n",
      "Precision, recall & F1: macro-averaged (equally weighted avg. of 47 classes)\n",
      "\n",
      "Warning: 8 classes were never predicted by the model and were excluded from average precision\n",
      "Classes excluded from average precision: [1, 3, 9, 17, 26, 30, 42, 45]\n",
      "\n",
      "\n",
      "Note: Confusion matrix not generated due to space requirements for 47 classes.\n",
      "Use stats(false,true) to generate anyway\n",
      "==================================================================Label               AUC         # Pos     # Neg     \n",
      "0                   0.5861      400       18400     \n",
      "1                   0.6572      400       18400     \n",
      "2                   0.5969      400       18400     \n",
      "3                   0.3248      400       18400     \n",
      "4                   0.5070      400       18400     \n",
      "5                   0.6577      400       18400     \n",
      "6                   0.5134      400       18400     \n",
      "7                   0.6111      400       18400     \n",
      "8                   0.5878      400       18400     \n",
      "9                   0.5123      400       18400     \n",
      "10                  0.5682      400       18400     \n",
      "11                  0.4276      400       18400     \n",
      "12                  0.2525      400       18400     \n",
      "13                  0.5390      400       18400     \n",
      "14                  0.5986      400       18400     \n",
      "15                  0.3690      400       18400     \n",
      "16                  0.2502      400       18400     \n",
      "17                  0.4290      400       18400     \n",
      "18                  0.4055      400       18400     \n",
      "19                  0.5024      400       18400     \n",
      "20                  0.4999      400       18400     \n",
      "21                  0.5357      400       18400     \n",
      "22                  0.4455      400       18400     \n",
      "23                  0.2642      400       18400     \n",
      "24                  0.4445      400       18400     \n",
      "25                  0.5484      400       18400     \n",
      "26                  0.5092      400       18400     \n",
      "27                  0.6078      400       18400     \n",
      "28                  0.4599      400       18400     \n",
      "29                  0.5484      400       18400     \n",
      "30                  0.5074      400       18400     \n",
      "31                  0.2839      400       18400     \n",
      "32                  0.7552      400       18400     \n",
      "33                  0.5617      400       18400     \n",
      "34                  0.4646      400       18400     \n",
      "35                  0.5109      400       18400     \n",
      "36                  0.6264      400       18400     \n",
      "37                  0.5892      400       18400     \n",
      "38                  0.3989      400       18400     \n",
      "39                  0.6361      400       18400     \n",
      "40                  0.5392      400       18400     \n",
      "41                  0.6380      400       18400     \n",
      "42                  0.5388      400       18400     \n",
      "43                  0.3691      400       18400     \n",
      "44                  0.5510      400       18400     \n",
      "45                  0.4910      400       18400     \n",
      "46                  0.5675      400       18400     Average AUC: 0.5061      "
     ]
    }
   ],
   "source": [
    "print(eval.stats())\n",
    "print(roc.stats())"
   ]
  },
  {
   "cell_type": "code",
   "execution_count": 15,
   "metadata": {},
   "outputs": [
    {
     "data": {
      "text/plain": [
       "\u001b[36mres14\u001b[39m: \u001b[32mjava\u001b[39m.\u001b[32mutil\u001b[39m.\u001b[32mMap\u001b[39m[\u001b[32mString\u001b[39m, \u001b[32morg\u001b[39m.\u001b[32mbytedeco\u001b[39m.\u001b[32mjavacpp\u001b[39m.\u001b[32mPointer\u001b[39m] = {}"
      ]
     },
     "execution_count": 15,
     "metadata": {},
     "output_type": "execute_result"
    }
   ],
   "source": [
    "network.getHelperWorkspaces"
   ]
  },
  {
   "cell_type": "code",
   "execution_count": 16,
   "metadata": {},
   "outputs": [
    {
     "data": {
      "text/plain": [
       "\u001b[36mhidden\u001b[39m: \u001b[32morg\u001b[39m.\u001b[32mdeeplearning4j\u001b[39m.\u001b[32mnn\u001b[39m.\u001b[32mapi\u001b[39m.\u001b[32mLayer\u001b[39m = org.deeplearning4j.nn.layers.feedforward.dense.DenseLayer{conf=NeuralNetConfiguration(layer=DenseLayer(super=FeedForwardLayer(super=BaseLayer(activationFn=relu, weightInitFn=org.deeplearning4j.nn.weights.WeightInitXavier@1, biasInit=0.0, gainInit=1.0, regularization=[L2Regularization(l2=FixedSchedule(value=1.0E-4))], regularizationBias=[], iUpdater=Adam(learningRate=0.001, learningRateSchedule=null, beta1=0.9, beta2=0.999, epsilon=1.0E-8), biasUpdater=null, weightNoise=null, gradientNormalization=None, gradientNormalizationThreshold=1.0), nIn=784, nOut=1000), hasLayerNorm=false, hasBias=true), miniBatch=true, maxNumLineSearchIterations=5, seed=123, optimizationAlgo=STOCHASTIC_GRADIENT_DESCENT, variables=[W, b], stepFunction=null, minimize=true, cacheMode=NONE, dataType=FLOAT, iterationCount=0, epochCount=0), score=0.0, optimizer=null, listeners=[ScoreIterationListener(10)]}"
      ]
     },
     "execution_count": 16,
     "metadata": {},
     "output_type": "execute_result"
    }
   ],
   "source": [
    "val hidden = network.getLayers.toVector(0)"
   ]
  },
  {
   "cell_type": "code",
   "execution_count": 17,
   "metadata": {},
   "outputs": [
    {
     "data": {
      "text/plain": [
       "\u001b[32mimport \u001b[39m\u001b[36morg.deeplearning4j.nn.workspace._\u001b[39m"
      ]
     },
     "execution_count": 17,
     "metadata": {},
     "output_type": "execute_result"
    }
   ],
   "source": [
    "import org.deeplearning4j.nn.workspace._"
   ]
  },
  {
   "cell_type": "code",
   "execution_count": 18,
   "metadata": {},
   "outputs": [
    {
     "data": {
      "text/plain": [
       "\u001b[36mmgrBuil\u001b[39m: \u001b[32mLayerWorkspaceMgr\u001b[39m.\u001b[32mBuilder\u001b[39m = org.deeplearning4j.nn.workspace.LayerWorkspaceMgr$Builder@5b5e5127\n",
       "\u001b[36mres17_1\u001b[39m: \u001b[32mLayerWorkspaceMgr\u001b[39m.\u001b[32mBuilder\u001b[39m = org.deeplearning4j.nn.workspace.LayerWorkspaceMgr$Builder@5b5e5127"
      ]
     },
     "execution_count": 18,
     "metadata": {},
     "output_type": "execute_result"
    }
   ],
   "source": [
    "val mgrBuil = new LayerWorkspaceMgr.Builder()\n",
    "mgrBuil.defaultNoWorkspace()"
   ]
  },
  {
   "cell_type": "code",
   "execution_count": 19,
   "metadata": {},
   "outputs": [
    {
     "data": {
      "text/plain": [
       "\u001b[36mmgr\u001b[39m: \u001b[32mLayerWorkspaceMgr\u001b[39m = org.deeplearning4j.nn.workspace.LayerWorkspaceMgr@17f73ac8"
      ]
     },
     "execution_count": 19,
     "metadata": {},
     "output_type": "execute_result"
    }
   ],
   "source": [
    "val mgr = mgrBuil.build"
   ]
  },
  {
   "cell_type": "code",
   "execution_count": 20,
   "metadata": {},
   "outputs": [
    {
     "data": {
      "text/plain": [
       "\u001b[32mimport \u001b[39m\u001b[36morg.nd4j.linalg.cpu.nativecpu._\u001b[39m"
      ]
     },
     "execution_count": 20,
     "metadata": {},
     "output_type": "execute_result"
    }
   ],
   "source": [
    "import org.nd4j.linalg.cpu.nativecpu._"
   ]
  },
  {
   "cell_type": "code",
   "execution_count": 21,
   "metadata": {},
   "outputs": [
    {
     "data": {
      "text/plain": [
       "\u001b[36marr\u001b[39m: \u001b[32mArray\u001b[39m[\u001b[32mArray\u001b[39m[\u001b[32mDouble\u001b[39m]] = \u001b[33mArray\u001b[39m(\n",
       "  \u001b[33mArray\u001b[39m(\n",
       "    \u001b[32m0.5\u001b[39m,\n",
       "    \u001b[32m0.5\u001b[39m,\n",
       "    \u001b[32m0.5\u001b[39m,\n",
       "    \u001b[32m0.5\u001b[39m,\n",
       "    \u001b[32m0.5\u001b[39m,\n",
       "    \u001b[32m0.5\u001b[39m,\n",
       "    \u001b[32m0.5\u001b[39m,\n",
       "    \u001b[32m0.5\u001b[39m,\n",
       "    \u001b[32m0.5\u001b[39m,\n",
       "    \u001b[32m0.5\u001b[39m,\n",
       "    \u001b[32m0.5\u001b[39m,\n",
       "    \u001b[32m0.5\u001b[39m,\n",
       "    \u001b[32m0.5\u001b[39m,\n",
       "    \u001b[32m0.5\u001b[39m,\n",
       "    \u001b[32m0.5\u001b[39m,\n",
       "    \u001b[32m0.5\u001b[39m,\n",
       "    \u001b[32m0.5\u001b[39m,\n",
       "    \u001b[32m0.5\u001b[39m,\n",
       "    \u001b[32m0.5\u001b[39m,\n",
       "    \u001b[32m0.5\u001b[39m,\n",
       "    \u001b[32m0.5\u001b[39m,\n",
       "    \u001b[32m0.5\u001b[39m,\n",
       "    \u001b[32m0.5\u001b[39m,\n",
       "    \u001b[32m0.5\u001b[39m,\n",
       "    \u001b[32m0.5\u001b[39m,\n",
       "    \u001b[32m0.5\u001b[39m,\n",
       "    \u001b[32m0.5\u001b[39m,\n",
       "    \u001b[32m0.5\u001b[39m,\n",
       "    \u001b[32m0.5\u001b[39m,\n",
       "    \u001b[32m0.5\u001b[39m,\n",
       "    \u001b[32m0.5\u001b[39m,\n",
       "    \u001b[32m0.5\u001b[39m,\n",
       "    \u001b[32m0.5\u001b[39m,\n",
       "    \u001b[32m0.5\u001b[39m,\n",
       "    \u001b[32m0.5\u001b[39m,\n",
       "    \u001b[32m0.5\u001b[39m,\n",
       "    \u001b[32m0.5\u001b[39m,\n",
       "...\n",
       "\u001b[36mndArr\u001b[39m: \u001b[32mNDArray\u001b[39m = [[    0.5000,    0.5000,    0.5000,    0.5000,    0.5000,    0.5000,    0.5000,    0.5000,    0.5000,    0.5000,    0.5000,    0.5000,    0.5000,    0.5000,    0.5000,    0.5000,    0.5000,    0.5000,    0.5000,    0.5000,    0.5000,    0.5000,    0.5000,    0.5000,    0.5000,    0.5000,    0.5000,    0.5000,    0.5000,    0.5000,    0.5000,    0.5000,    0.5000,    0.5000,    0.5000,    0.5000,    0.5000,    0.5000,    0.5000,    0.5000,    0.5000,    0.5000,    0.5000,    0.5000,    0.5000,    0.5000,    0.5000,    0.5000,    0.5000,    0.5000,    0.5000,    0.5000,    0.5000,    0.5000,    0.5000,    0.5000,    0.5000,    0.5000,    0.5000,    0.5000,    0.5000,    0.5000,    0.5000,    0.5000,    0.5000,    0.5000,    0.5000,    0.5000,    0.5000,    0.5000,    0.5000,    0.5000,    0.5000,    0.5000,    0.5000,    0.5000,    0.5000,    0.5000,    0.5000,    0.5000,    0.5000,    0.5000,    0.5000,    0.5000,    0.5000,    0.5000,    0.5000,    0.5000,    0.5000,    0.5000,    0.5000,    0.5000,    0.5000,    0.5000,    0.5000,    0.5000,    0.5000,    0.5000,    0.5000,    0.5000,    0.5000,    0.5000,    0.5000,    0.5000,    0.5000,    0.5000,    0.5000,    0.5000,    0.5000,    0.5000,    0.5000,    0.5000,    0.5000,    0.5000,    0.5000,    0.5000,    0.5000,    0.5000,    0.5000,    0.5000,    0.5000,    0.5000,    0.5000,    0.5000,    0.5000,    0.5000,    0.5000,    0.5000,    0.5000,    0.5000,    0.5000,    0.5000,    0.5000,    0.5000,    0.5000,    0.5000,    0.5000,    0.5000,    0.5000,    0.5000,    0.5000,    0.5000,    0.5000,    0.5000,    0.5000,    0.5000,    0.5000,    0.5000,    0.5000,    0.5000,    0.5000,    0.5000,    0.5000,    0.5000,    0.5000,    0.5000,    0.5000,    0.5000,    0.5000,    0.5000,    0.5000,    0.5000,    0.5000,    0.5000,    0.5000,    0.5000,    0.5000,    0.5000,    0.5000,    0.5000,    0.5000,    0.5000,    0.5000,    0.5000,    0.5000,    0.5000,    0.5000,    0.5000,    0.5000,    0.5000,    0.5000,    0.5000,    0.5000,    0.5000,    0.5000,    0.5000,    0.5000,    0.5000,    0.5000,    0.5000,    0.5000,    0.5000,    0.5000,    0.5000,    0.5000,    0.5000,    0.5000,    0.5000,    0.5000,    0.5000,    0.5000,    0.5000,    0.5000,    0.5000,    0.5000,    0.5000,    0.5000,    0.5000,    0.5000,    0.5000,    0.5000,    0.5000,    0.5000,    0.5000,    0.5000,    0.5000,    0.5000,    0.5000,    0.5000,    0.5000,    0.5000,    0.5000,    0.5000,    0.5000,    0.5000,    0.5000,    0.5000,    0.5000,    0.5000,    0.5000,    0.5000,    0.5000,    0.5000,    0.5000,    0.5000,    0.5000,    0.5000,    0.5000,    0.5000,    0.5000,    0.5000,    0.5000,    0.5000,    0.5000,    0.5000,    0.5000,    0.5000,    0.5000,    0.5000,    0.5000,    0.5000,    0.5000,    0.5000,    0.5000,    0.5000,    0.5000,    0.5000,    0.5000,    0.5000,    0.5000,    0.5000,    0.5000,    0.5000,    0.5000,    0.5000,    0.5000,    0.5000,    0.5000,    0.5000,    0.5000,    0.5000,    0.5000,    0.5000,    0.5000,    0.5000,    0.5000,    0.5000,    0.5000,    0.5000,    0.5000,    0.5000,    0.5000,    0.5000,    0..."
      ]
     },
     "execution_count": 21,
     "metadata": {},
     "output_type": "execute_result"
    }
   ],
   "source": [
    "val arr = Array(Array.fill(numRows * numColumns)(0.5))\n",
    "val ndArr = new NDArray(arr)"
   ]
  },
  {
   "cell_type": "code",
   "execution_count": 22,
   "metadata": {},
   "outputs": [
    {
     "data": {
      "text/plain": [
       "\u001b[36mres21\u001b[39m: \u001b[32morg\u001b[39m.\u001b[32mnd4j\u001b[39m.\u001b[32mlinalg\u001b[39m.\u001b[32mapi\u001b[39m.\u001b[32mndarray\u001b[39m.\u001b[32mINDArray\u001b[39m = [[         0,    0.1980,         0,    0.2391,    0.3186,    0.0693,    0.5675,         0,         0,         0,    0.2758,         0,    0.1364,         0,         0,         0,         0,         0,    0.2408,         0,    0.0910,    0.2448,    0.1459,         0,         0,         0,         0,         0,         0,         0,    0.1250,         0,         0,    0.0570,    0.2485,         0,         0,    0.6691,    0.1565,    0.2413,         0,    0.3906,         0,    0.0072,         0,         0,    0.2447,    0.1841,         0,    0.7214,    0.3133,         0,         0,         0,         0,    0.2640,    0.0611,         0,    0.0727,         0,    0.0629,    0.3995,         0,    0.2415,         0,    0.0443,    0.4021,    0.2881,         0,         0,    0.6177,         0,         0,         0,    0.5628,    0.7332,         0,    0.2883,         0,    0.2286,    0.7313,         0,         0,    0.4071,    0.1007,    0.2637,    0.1041,    0.5844,    0.3205,         0,    0.4153,         0,    0.4078,         0,    0.2289,         0,         0,    0.7185,         0,         0,    0.0119,    0.6595,    0.2695,         0,    0.1973,    0.0521,         0,         0,    0.1661,    0.4065,    0.4808,         0,         0,         0,    0.2284,         0,         0,         0,         0,    0.1481,         0,         0,    0.4259,    0.0224,         0,    0.1121,         0,         0,    0.0764,    0.2278,         0,         0,         0,         0,         0,    0.2821,    0.0508,    0.6492,         0,    0.2271,    1.1039,    0.0617,         0,         0,    0.3033,    0.5690,         0,         0,         0,         0,         0,    0.5183,         0,         0,    0.2841,    0.7005,    0.9966,    0.2607,         0,    0.5267,         0,         0,    0.4193,    0.5360,         0,         0,         0,         0,    0.3466,    0.8656,         0,    0.7367,         0,    0.2154,         0,    0.8522,         0,    0.2841,         0,         0,    0.7932,    0.4097,    0.6959,         0,    0.2526,    0.2352,         0,         0,    0.2697,    0.0030,         0,         0,         0,    0.1252,         0,         0,         0,    0.0214,    0.7202,         0,         0,    0.8650,    0.6767,    0.1830,    0.0581,    0.8411,         0,         0,    0.0588,    0.7477,    0.1716,         0,    0.5474,         0,    0.5548,    0.3209,    0.3245,         0,    0.4230,    0.2137,         0,    0.3827,    0.8385,    0.1568,    0.2498,    0.2771,         0,    0.6723,         0,         0,         0,         0,    0.0706,         0,    0.5984,         0,         0,    0.0730,    0.5203,         0,    0.5137,         0,         0,    0.0982,    0.2106,    0.2627,         0,         0,         0,    0.2443,    0.1023,         0,         0,    0.4135,    0.2727,         0,         0,    0.1753,         0,    0.9364,    0.3885,    0.1458,    0.3492,         0,    0.6759,         0,    1.3311,         0,         0,    0.0352,         0,    0.0477,         0,    0.4409,    0.0575,         0,         0,    0.0590,    0.3119,         0,    0.1497,    0.3427,         0,    1..."
      ]
     },
     "execution_count": 22,
     "metadata": {},
     "output_type": "execute_result"
    }
   ],
   "source": [
    "hidden.activate(ndArr, false, mgr)"
   ]
  },
  {
   "cell_type": "markdown",
   "metadata": {},
   "source": [
    "__Conclusion:__ Seem to be able to feedforward for layers."
   ]
  },
  {
   "cell_type": "code",
   "execution_count": 23,
   "metadata": {},
   "outputs": [
    {
     "data": {
      "text/plain": [
       "\u001b[36mres22\u001b[39m: \u001b[32mLong\u001b[39m = \u001b[32m785000L\u001b[39m"
      ]
     },
     "execution_count": 23,
     "metadata": {},
     "output_type": "execute_result"
    }
   ],
   "source": [
    "hidden.numParams"
   ]
  },
  {
   "cell_type": "code",
   "execution_count": 24,
   "metadata": {},
   "outputs": [
    {
     "data": {
      "text/plain": [
       "\u001b[36mres23\u001b[39m: \u001b[32morg\u001b[39m.\u001b[32mnd4j\u001b[39m.\u001b[32mlinalg\u001b[39m.\u001b[32mapi\u001b[39m.\u001b[32mndarray\u001b[39m.\u001b[32mINDArray\u001b[39m = [[   -0.0168,   -0.0172,    0.0201,  ...         0,         0,         0]]"
      ]
     },
     "execution_count": 24,
     "metadata": {},
     "output_type": "execute_result"
    }
   ],
   "source": [
    "hidden.params"
   ]
  },
  {
   "cell_type": "code",
   "execution_count": 25,
   "metadata": {},
   "outputs": [
    {
     "data": {
      "text/plain": [
       "\u001b[36mres24\u001b[39m: \u001b[32mInt\u001b[39m = \u001b[32m784\u001b[39m"
      ]
     },
     "execution_count": 25,
     "metadata": {},
     "output_type": "execute_result"
    }
   ],
   "source": [
    "numRows * numColumns"
   ]
  },
  {
   "cell_type": "code",
   "execution_count": 26,
   "metadata": {},
   "outputs": [
    {
     "data": {
      "text/plain": [
       "\u001b[36mres25\u001b[39m: \u001b[32mNeuralNetConfiguration\u001b[39m = NeuralNetConfiguration(layer=DenseLayer(super=FeedForwardLayer(super=BaseLayer(activationFn=relu, weightInitFn=org.deeplearning4j.nn.weights.WeightInitXavier@1, biasInit=0.0, gainInit=1.0, regularization=[L2Regularization(l2=FixedSchedule(value=1.0E-4))], regularizationBias=[], iUpdater=Adam(learningRate=0.001, learningRateSchedule=null, beta1=0.9, beta2=0.999, epsilon=1.0E-8), biasUpdater=null, weightNoise=null, gradientNormalization=None, gradientNormalizationThreshold=1.0), nIn=784, nOut=1000), hasLayerNorm=false, hasBias=true), miniBatch=true, maxNumLineSearchIterations=5, seed=123, optimizationAlgo=STOCHASTIC_GRADIENT_DESCENT, variables=[W, b], stepFunction=null, minimize=true, cacheMode=NONE, dataType=FLOAT, iterationCount=0, epochCount=0)"
      ]
     },
     "execution_count": 26,
     "metadata": {},
     "output_type": "execute_result"
    }
   ],
   "source": [
    "hidden.conf"
   ]
  },
  {
   "cell_type": "code",
   "execution_count": 27,
   "metadata": {},
   "outputs": [
    {
     "data": {
      "text/plain": [
       "\u001b[36mres26\u001b[39m: \u001b[32mInt\u001b[39m = \u001b[32m0\u001b[39m"
      ]
     },
     "execution_count": 27,
     "metadata": {},
     "output_type": "execute_result"
    }
   ],
   "source": [
    "hidden.getIndex"
   ]
  },
  {
   "cell_type": "code",
   "execution_count": 28,
   "metadata": {},
   "outputs": [
    {
     "data": {
      "text/plain": [
       "\u001b[36mres27\u001b[39m: \u001b[32mjava\u001b[39m.\u001b[32mutil\u001b[39m.\u001b[32mMap\u001b[39m[\u001b[32mString\u001b[39m, \u001b[32morg\u001b[39m.\u001b[32mnd4j\u001b[39m.\u001b[32mlinalg\u001b[39m.\u001b[32mapi\u001b[39m.\u001b[32mndarray\u001b[39m.\u001b[32mINDArray\u001b[39m] = {W=[[   -0.0168,    0.0603,   -0.0238,  ...    0.0236,    0.0123,    0.0404], \n",
       " [   -0.0172,   -0.0424,   -0.0164,  ...   -0.0098,    0.0307,    0.0497], \n",
       " [    0.0201,    0.0185,   -0.0015,  ...   -0.0116,    0.0134,    0.0248], \n",
       "  ..., \n",
       " [    0.0111,    0.0361,   -0.0239,  ...   -0.0595,   -0.0776,    0.0088], \n",
       " [   -0.0070,    0.0246,    0.0337,  ...   -0.0137,   -0.0334,    0.0407], \n",
       " [    0.0091,    0.0290,   -0.0260,  ...   -0.0167,    0.0515,   -0.0082]], b=[[         0,         0,         0,         0,         0,         0,         0,         0,         0,         0,         0,         0,         0,         0,         0,         0,         0,         0,         0,         0,         0,         0,         0,         0,         0,         0,         0,         0,         0,         0,         0,         0,         0,         0,         0,         0,         0,         0,         0,         0,         0,         0,         0,         0,         0,         0,         0,         0,         0,         0,         0,         0,         0,         0,         0,         0,         0,         0,         0,         0,         0,         0,         0,         0,         0,         0,         0,         0,         0,         0,         0,         0,         0,         0,         0,         0,         0,         0,         0,         0,         0,         0,         0,         0,         0,         0,         0,         0,         0,         0,         0,         0,         0,         0,         0,         0,         0,         0,         0,         0,         0,         0,         0,         0,         0,         0,         0,         0,         0,         0,         0,         0,         0,         0,         0,         0,         0,         0,         0,         0,         0,         0,         0,         0,         0,         0,         0,         0,         0,         0,         0,         0,         0,         0,         0,         0,         0,         0,         0,         0,         0,         0,         0,         0,         0,         0,         0,         0,         0,         0,         0,         0,         0,         0,         0,         0,         0,         0,         0,         0,         0,         0,         0,         0,         0,         0,         0,         0,         0,         0,         0,         0,         0,         0,         0,         0,         0,         0,         0,         0,         0,         0,         0,         0,         0,         0,         0,         0,         0,         0,         0,         0,         0,         0,         0,         0,         0,         0,         0,         0,         0,         0,         0,         0,         0,         0,         0,         0,         0,         0,         0,         0,         0,         0,         0,         0,         0,         0,         0,         0,         0,         0,         0,         0,         0,         0,         0,         0,         0,         0,         0,         0,        ..."
      ]
     },
     "execution_count": 28,
     "metadata": {},
     "output_type": "execute_result"
    }
   ],
   "source": []
  },
  {
   "cell_type": "code",
   "execution_count": 29,
   "metadata": {},
   "outputs": [
    {
     "data": {
      "text/plain": [
       "\u001b[36mres28\u001b[39m: \u001b[32mString\u001b[39m => \u001b[32morg\u001b[39m.\u001b[32mnd4j\u001b[39m.\u001b[32mlinalg\u001b[39m.\u001b[32mapi\u001b[39m.\u001b[32mndarray\u001b[39m.\u001b[32mINDArray\u001b[39m = ammonite.$sess.cmd28$Helper$$Lambda$2977/718415801@4498d9fd"
      ]
     },
     "execution_count": 29,
     "metadata": {},
     "output_type": "execute_result"
    }
   ],
   "source": [
    "hidden.getParam _"
   ]
  },
  {
   "cell_type": "code",
   "execution_count": 30,
   "metadata": {},
   "outputs": [
    {
     "data": {
      "text/plain": [
       "\u001b[36mres29\u001b[39m: \u001b[32mcollection\u001b[39m.\u001b[32mmutable\u001b[39m.\u001b[32mMap\u001b[39m[\u001b[32mString\u001b[39m, \u001b[32morg\u001b[39m.\u001b[32mnd4j\u001b[39m.\u001b[32mlinalg\u001b[39m.\u001b[32mapi\u001b[39m.\u001b[32mndarray\u001b[39m.\u001b[32mINDArray\u001b[39m] = \u001b[33mMap\u001b[39m(\n",
       "  \u001b[32m\"W\"\u001b[39m -> [[   -0.0168,    0.0603,   -0.0238,  ...    0.0236,    0.0123,    0.0404], \n",
       " [   -0.0172,   -0.0424,   -0.0164,  ...   -0.0098,    0.0307,    0.0497], \n",
       " [    0.0201,    0.0185,   -0.0015,  ...   -0.0116,    0.0134,    0.0248], \n",
       "  ..., \n",
       " [    0.0111,    0.0361,   -0.0239,  ...   -0.0595,   -0.0776,    0.0088], \n",
       " [   -0.0070,    0.0246,    0.0337,  ...   -0.0137,   -0.0334,    0.0407], \n",
       " [    0.0091,    0.0290,   -0.0260,  ...   -0.0167,    0.0515,   -0.0082]],\n",
       "  \u001b[32m\"b\"\u001b[39m -> [[         0,         0,         0,         0,         0,         0,         0,         0,         0,         0,         0,         0,         0,         0,         0,         0,         0,         0,         0,         0,         0,         0,         0,         0,         0,         0,         0,         0,         0,         0,         0,         0,         0,         0,         0,         0,         0,         0,         0,         0,         0,         0,         0,         0,         0,         0,         0,         0,         0,         0,         0,         0,         0,         0,         0,         0,         0,         0,         0,         0,         0,         0,         0,         0,         0,         0,         0,         0,         0,         0,         0,         0,         0,         0,         0,         0,         0,         0,         0,         0,         0,         0,         0,         0,         0,         0,         0,         0,         0,         0,         0,         0,         0,         0,         0,         0,         0,         0,         0,         0,         0,         0,         0,         0,         0,         0,         0,         0,         0,         0,         0,         0,         0,         0,         0,         0,         0,         0,         0,         0,         0,         0,         0,         0,         0,         0,         0,         0,         0,         0,         0,         0,         0,         0,         0,         0,         0,         0,         0,         0,         0,         0,         0,         0,         0,         0,         0,         0,         0,         0,         0,         0,         0,         0,         0,         0,         0,         0,         0,         0,         0,         0,         0,         0,         0,         0,         0,         0,         0,         0,         0,         0,         0,         0,         0,         0,         0,         0,         0,         0,         0,         0,         0,         0,         0,         0,         0,         0,         0,         0,         0,         0,         0,         0,         0,         0,         0,         0,         0,         0,         0,         0,         0,         0,         0,         0,         0,         0,         0,         0,         0,         0,         0,         0,         0,         0,         0,  ..."
      ]
     },
     "execution_count": 30,
     "metadata": {},
     "output_type": "execute_result"
    }
   ],
   "source": [
    "hidden.paramTable.asScala"
   ]
  },
  {
   "cell_type": "code",
   "execution_count": 31,
   "metadata": {},
   "outputs": [
    {
     "data": {
      "text/plain": [
       "\u001b[36mres30\u001b[39m: \u001b[32mIterable\u001b[39m[\u001b[32mString\u001b[39m] = \u001b[33mSet\u001b[39m(\u001b[32m\"W\"\u001b[39m, \u001b[32m\"b\"\u001b[39m)"
      ]
     },
     "execution_count": 31,
     "metadata": {},
     "output_type": "execute_result"
    }
   ],
   "source": [
    "hidden.paramTable.asScala.keys"
   ]
  },
  {
   "cell_type": "code",
   "execution_count": 32,
   "metadata": {},
   "outputs": [
    {
     "data": {
      "text/plain": [
       "\u001b[36mparams\u001b[39m: \u001b[32mcollection\u001b[39m.\u001b[32mmutable\u001b[39m.\u001b[32mMap\u001b[39m[\u001b[32mString\u001b[39m, \u001b[32morg\u001b[39m.\u001b[32mnd4j\u001b[39m.\u001b[32mlinalg\u001b[39m.\u001b[32mapi\u001b[39m.\u001b[32mndarray\u001b[39m.\u001b[32mINDArray\u001b[39m] = \u001b[33mMap\u001b[39m(\n",
       "  \u001b[32m\"W\"\u001b[39m -> [[   -0.0168,    0.0603,   -0.0238,  ...    0.0236,    0.0123,    0.0404], \n",
       " [   -0.0172,   -0.0424,   -0.0164,  ...   -0.0098,    0.0307,    0.0497], \n",
       " [    0.0201,    0.0185,   -0.0015,  ...   -0.0116,    0.0134,    0.0248], \n",
       "  ..., \n",
       " [    0.0111,    0.0361,   -0.0239,  ...   -0.0595,   -0.0776,    0.0088], \n",
       " [   -0.0070,    0.0246,    0.0337,  ...   -0.0137,   -0.0334,    0.0407], \n",
       " [    0.0091,    0.0290,   -0.0260,  ...   -0.0167,    0.0515,   -0.0082]],\n",
       "  \u001b[32m\"b\"\u001b[39m -> [[         0,         0,         0,         0,         0,         0,         0,         0,         0,         0,         0,         0,         0,         0,         0,         0,         0,         0,         0,         0,         0,         0,         0,         0,         0,         0,         0,         0,         0,         0,         0,         0,         0,         0,         0,         0,         0,         0,         0,         0,         0,         0,         0,         0,         0,         0,         0,         0,         0,         0,         0,         0,         0,         0,         0,         0,         0,         0,         0,         0,         0,         0,         0,         0,         0,         0,         0,         0,         0,         0,         0,         0,         0,         0,         0,         0,         0,         0,         0,         0,         0,         0,         0,         0,         0,         0,         0,         0,         0,         0,         0,         0,         0,         0,         0,         0,         0,         0,         0,         0,         0,         0,         0,         0,         0,         0,         0,         0,         0,         0,         0,         0,         0,         0,         0,         0,         0,         0,         0,         0,         0,         0,         0,         0,         0,         0,         0,         0,         0,         0,         0,         0,         0,         0,         0,         0,         0,         0,         0,         0,         0,         0,         0,         0,         0,         0,         0,         0,         0,         0,         0,         0,         0,         0,         0,         0,         0,         0,         0,         0,         0,         0,         0,         0,         0,         0,         0,         0,         0,         0,         0,         0,         0,         0,         0,         0,         0,         0,         0,         0,         0,         0,         0,         0,         0,         0,         0,         0,         0,         0,         0,         0,         0,         0,         0,         0,         0,         0,         0,         0,         0,         0,         0,         0,         0,         0,         0,         0,         0,         0,         0,         0,         0,         0,         0,         0,         0,  ...\n",
       "\u001b[36mres31_1\u001b[39m: \u001b[32mIterable\u001b[39m[\u001b[32morg\u001b[39m.\u001b[32mnd4j\u001b[39m.\u001b[32mlinalg\u001b[39m.\u001b[32mapi\u001b[39m.\u001b[32mndarray\u001b[39m.\u001b[32mINDArray\u001b[39m] = \u001b[33mIterable\u001b[39m(\n",
       "  [[   -0.0168,    0.0603,   -0.0238,  ...    0.0236,    0.0123,    0.0404], \n",
       " [   -0.0172,   -0.0424,   -0.0164,  ...   -0.0098,    0.0307,    0.0497], \n",
       " [    0.0201,    0.0185,   -0.0015,  ...   -0.0116,    0.0134,    0.0248], \n",
       "  ..., \n",
       " [    0.0111,    0.0361,   -0.0239,  ...   -0.0595,   -0.0776,    0.0088], \n",
       " [   -0.0070,    0.0246,    0.0337,  ...   -0.0137,   -0.0334,    0.0407], \n",
       " [    0.0091,    0.0290,   -0.0260,  ...   -0.0167,    0.0515,   -0.0082]],\n",
       "  [[         0,         0,         0,         0,         0,         0,         0,         0,         0,         0,         0,         0,         0,         0,         0,         0,         0,         0,         0,         0,         0,         0,         0,         0,         0,         0,         0,         0,         0,         0,         0,         0,         0,         0,         0,         0,         0,         0,         0,         0,         0,         0,         0,         0,         0,         0,         0,         0,         0,         0,         0,         0,         0,         0,         0,         0,         0,         0,         0,         0,         0,         0,         0,         0,         0,         0,         0,         0,         0,         0,         0,         0,         0,         0,         0,         0,         0,         0,         0,         0,         0,         0,         0,         0,         0,         0,         0,         0,         0,         0,         0,         0,         0,         0,         0,         0,         0,         0,         0,         0,         0,         0,         0,         0,         0,         0,         0,         0,         0,         0,         0,         0,         0,         0,         0,         0,         0,         0,         0,         0,         0,         0,         0,         0,         0,         0,         0,         0,         0,         0,         0,         0,         0,         0,         0,         0,         0,         0,         0,         0,         0,         0,         0,         0,         0,         0,         0,         0,         0,         0,         0,         0,         0,         0,         0,         0,         0,         0,         0,         0,         0,         0,         0,         0,         0,         0,         0,         0,         0,         0,         0,         0,         0,         0,         0,         0,         0,         0,         0,         0,         0,         0,         0,         0,         0,         0,         0,         0,         0,         0,         0,         0,         0,         0,         0,         0,         0,         0,         0,         0,         0,         0,         0,         0,         0,         0,         0,         0,         0,         0,         0,         0,         0,         0,         0,         0,         0,         0,         0,         0,         0,         0,         0,         0,         0, ..."
      ]
     },
     "execution_count": 32,
     "metadata": {},
     "output_type": "execute_result"
    }
   ],
   "source": [
    "val params = hidden.paramTable.asScala\n",
    "params.values"
   ]
  },
  {
   "cell_type": "code",
   "execution_count": 33,
   "metadata": {},
   "outputs": [
    {
     "data": {
      "text/plain": [
       "\u001b[36mres32\u001b[39m: \u001b[32mcollection\u001b[39m.\u001b[32mmutable\u001b[39m.\u001b[32mMap\u001b[39m[\u001b[32mString\u001b[39m, \u001b[32morg\u001b[39m.\u001b[32mnd4j\u001b[39m.\u001b[32mlinalg\u001b[39m.\u001b[32mapi\u001b[39m.\u001b[32mndarray\u001b[39m.\u001b[32mINDArray\u001b[39m] = \u001b[33mMap\u001b[39m(\n",
       "  \u001b[32m\"W\"\u001b[39m -> [[   -0.0168,    0.0603,   -0.0238,  ...    0.0236,    0.0123,    0.0404], \n",
       " [   -0.0172,   -0.0424,   -0.0164,  ...   -0.0098,    0.0307,    0.0497], \n",
       " [    0.0201,    0.0185,   -0.0015,  ...   -0.0116,    0.0134,    0.0248], \n",
       "  ..., \n",
       " [    0.0111,    0.0361,   -0.0239,  ...   -0.0595,   -0.0776,    0.0088], \n",
       " [   -0.0070,    0.0246,    0.0337,  ...   -0.0137,   -0.0334,    0.0407], \n",
       " [    0.0091,    0.0290,   -0.0260,  ...   -0.0167,    0.0515,   -0.0082]],\n",
       "  \u001b[32m\"b\"\u001b[39m -> [[         0,         0,         0,         0,         0,         0,         0,         0,         0,         0,         0,         0,         0,         0,         0,         0,         0,         0,         0,         0,         0,         0,         0,         0,         0,         0,         0,         0,         0,         0,         0,         0,         0,         0,         0,         0,         0,         0,         0,         0,         0,         0,         0,         0,         0,         0,         0,         0,         0,         0,         0,         0,         0,         0,         0,         0,         0,         0,         0,         0,         0,         0,         0,         0,         0,         0,         0,         0,         0,         0,         0,         0,         0,         0,         0,         0,         0,         0,         0,         0,         0,         0,         0,         0,         0,         0,         0,         0,         0,         0,         0,         0,         0,         0,         0,         0,         0,         0,         0,         0,         0,         0,         0,         0,         0,         0,         0,         0,         0,         0,         0,         0,         0,         0,         0,         0,         0,         0,         0,         0,         0,         0,         0,         0,         0,         0,         0,         0,         0,         0,         0,         0,         0,         0,         0,         0,         0,         0,         0,         0,         0,         0,         0,         0,         0,         0,         0,         0,         0,         0,         0,         0,         0,         0,         0,         0,         0,         0,         0,         0,         0,         0,         0,         0,         0,         0,         0,         0,         0,         0,         0,         0,         0,         0,         0,         0,         0,         0,         0,         0,         0,         0,         0,         0,         0,         0,         0,         0,         0,         0,         0,         0,         0,         0,         0,         0,         0,         0,         0,         0,         0,         0,         0,         0,         0,         0,         0,         0,         0,         0,         0,         0,         0,         0,         0,         0,         0,  ..."
      ]
     },
     "execution_count": 33,
     "metadata": {},
     "output_type": "execute_result"
    }
   ],
   "source": [
    "params"
   ]
  },
  {
   "cell_type": "code",
   "execution_count": 34,
   "metadata": {},
   "outputs": [
    {
     "data": {
      "text/plain": [
       "\u001b[36mres33\u001b[39m: \u001b[32mInt\u001b[39m = \u001b[32m2\u001b[39m"
      ]
     },
     "execution_count": 34,
     "metadata": {},
     "output_type": "execute_result"
    }
   ],
   "source": [
    "params.toVector.size"
   ]
  },
  {
   "cell_type": "code",
   "execution_count": 35,
   "metadata": {},
   "outputs": [
    {
     "data": {
      "text/plain": [
       "\u001b[36mres34\u001b[39m: \u001b[32morg\u001b[39m.\u001b[32mnd4j\u001b[39m.\u001b[32mlinalg\u001b[39m.\u001b[32mapi\u001b[39m.\u001b[32mndarray\u001b[39m.\u001b[32mINDArray\u001b[39m = [[   -0.0168,    0.0603,   -0.0238,  ...    0.0236,    0.0123,    0.0404], \n",
       " [   -0.0172,   -0.0424,   -0.0164,  ...   -0.0098,    0.0307,    0.0497], \n",
       " [    0.0201,    0.0185,   -0.0015,  ...   -0.0116,    0.0134,    0.0248], \n",
       "  ..., \n",
       " [    0.0111,    0.0361,   -0.0239,  ...   -0.0595,   -0.0776,    0.0088], \n",
       " [   -0.0070,    0.0246,    0.0337,  ...   -0.0137,   -0.0334,    0.0407], \n",
       " [    0.0091,    0.0290,   -0.0260,  ...   -0.0167,    0.0515,   -0.0082]]"
      ]
     },
     "execution_count": 35,
     "metadata": {},
     "output_type": "execute_result"
    }
   ],
   "source": [
    "params.toVector.head._2"
   ]
  },
  {
   "cell_type": "code",
   "execution_count": 36,
   "metadata": {},
   "outputs": [
    {
     "data": {
      "text/plain": [
       "\u001b[36mres35\u001b[39m: \u001b[32mjava\u001b[39m.\u001b[32mutil\u001b[39m.\u001b[32mMap\u001b[39m[\u001b[32mString\u001b[39m, \u001b[32morg\u001b[39m.\u001b[32mnd4j\u001b[39m.\u001b[32mlinalg\u001b[39m.\u001b[32mapi\u001b[39m.\u001b[32mndarray\u001b[39m.\u001b[32mINDArray\u001b[39m] = {W=[[   -0.0168,    0.0603,   -0.0238,  ...    0.0236,    0.0123,    0.0404], \n",
       " [   -0.0172,   -0.0424,   -0.0164,  ...   -0.0098,    0.0307,    0.0497], \n",
       " [    0.0201,    0.0185,   -0.0015,  ...   -0.0116,    0.0134,    0.0248], \n",
       "  ..., \n",
       " [    0.0111,    0.0361,   -0.0239,  ...   -0.0595,   -0.0776,    0.0088], \n",
       " [   -0.0070,    0.0246,    0.0337,  ...   -0.0137,   -0.0334,    0.0407], \n",
       " [    0.0091,    0.0290,   -0.0260,  ...   -0.0167,    0.0515,   -0.0082]], b=[[         0,         0,         0,         0,         0,         0,         0,         0,         0,         0,         0,         0,         0,         0,         0,         0,         0,         0,         0,         0,         0,         0,         0,         0,         0,         0,         0,         0,         0,         0,         0,         0,         0,         0,         0,         0,         0,         0,         0,         0,         0,         0,         0,         0,         0,         0,         0,         0,         0,         0,         0,         0,         0,         0,         0,         0,         0,         0,         0,         0,         0,         0,         0,         0,         0,         0,         0,         0,         0,         0,         0,         0,         0,         0,         0,         0,         0,         0,         0,         0,         0,         0,         0,         0,         0,         0,         0,         0,         0,         0,         0,         0,         0,         0,         0,         0,         0,         0,         0,         0,         0,         0,         0,         0,         0,         0,         0,         0,         0,         0,         0,         0,         0,         0,         0,         0,         0,         0,         0,         0,         0,         0,         0,         0,         0,         0,         0,         0,         0,         0,         0,         0,         0,         0,         0,         0,         0,         0,         0,         0,         0,         0,         0,         0,         0,         0,         0,         0,         0,         0,         0,         0,         0,         0,         0,         0,         0,         0,         0,         0,         0,         0,         0,         0,         0,         0,         0,         0,         0,         0,         0,         0,         0,         0,         0,         0,         0,         0,         0,         0,         0,         0,         0,         0,         0,         0,         0,         0,         0,         0,         0,         0,         0,         0,         0,         0,         0,         0,         0,         0,         0,         0,         0,         0,         0,         0,         0,         0,         0,         0,         0,         0,         0,         0,         0,         0,         0,         0,         0,         0,         0,         0,         0,         0,         0,         0,         0,         0,         0,         0,         0,         0,        ..."
      ]
     },
     "execution_count": 36,
     "metadata": {},
     "output_type": "execute_result"
    }
   ],
   "source": [
    "hidden.paramTable(true)"
   ]
  },
  {
   "cell_type": "code",
   "execution_count": 37,
   "metadata": {},
   "outputs": [
    {
     "data": {
      "text/plain": [
       "\u001b[36mres36\u001b[39m: \u001b[32mjava\u001b[39m.\u001b[32mutil\u001b[39m.\u001b[32mMap\u001b[39m[\u001b[32mString\u001b[39m, \u001b[32morg\u001b[39m.\u001b[32mnd4j\u001b[39m.\u001b[32mlinalg\u001b[39m.\u001b[32mapi\u001b[39m.\u001b[32mndarray\u001b[39m.\u001b[32mINDArray\u001b[39m] = {W=[[   -0.0168,    0.0603,   -0.0238,  ...    0.0236,    0.0123,    0.0404], \n",
       " [   -0.0172,   -0.0424,   -0.0164,  ...   -0.0098,    0.0307,    0.0497], \n",
       " [    0.0201,    0.0185,   -0.0015,  ...   -0.0116,    0.0134,    0.0248], \n",
       "  ..., \n",
       " [    0.0111,    0.0361,   -0.0239,  ...   -0.0595,   -0.0776,    0.0088], \n",
       " [   -0.0070,    0.0246,    0.0337,  ...   -0.0137,   -0.0334,    0.0407], \n",
       " [    0.0091,    0.0290,   -0.0260,  ...   -0.0167,    0.0515,   -0.0082]], b=[[         0,         0,         0,         0,         0,         0,         0,         0,         0,         0,         0,         0,         0,         0,         0,         0,         0,         0,         0,         0,         0,         0,         0,         0,         0,         0,         0,         0,         0,         0,         0,         0,         0,         0,         0,         0,         0,         0,         0,         0,         0,         0,         0,         0,         0,         0,         0,         0,         0,         0,         0,         0,         0,         0,         0,         0,         0,         0,         0,         0,         0,         0,         0,         0,         0,         0,         0,         0,         0,         0,         0,         0,         0,         0,         0,         0,         0,         0,         0,         0,         0,         0,         0,         0,         0,         0,         0,         0,         0,         0,         0,         0,         0,         0,         0,         0,         0,         0,         0,         0,         0,         0,         0,         0,         0,         0,         0,         0,         0,         0,         0,         0,         0,         0,         0,         0,         0,         0,         0,         0,         0,         0,         0,         0,         0,         0,         0,         0,         0,         0,         0,         0,         0,         0,         0,         0,         0,         0,         0,         0,         0,         0,         0,         0,         0,         0,         0,         0,         0,         0,         0,         0,         0,         0,         0,         0,         0,         0,         0,         0,         0,         0,         0,         0,         0,         0,         0,         0,         0,         0,         0,         0,         0,         0,         0,         0,         0,         0,         0,         0,         0,         0,         0,         0,         0,         0,         0,         0,         0,         0,         0,         0,         0,         0,         0,         0,         0,         0,         0,         0,         0,         0,         0,         0,         0,         0,         0,         0,         0,         0,         0,         0,         0,         0,         0,         0,         0,         0,         0,         0,         0,         0,         0,         0,         0,         0,         0,         0,         0,         0,         0,         0,        ..."
      ]
     },
     "execution_count": 37,
     "metadata": {},
     "output_type": "execute_result"
    }
   ],
   "source": [
    "hidden.paramTable(false)"
   ]
  },
  {
   "cell_type": "code",
   "execution_count": 38,
   "metadata": {},
   "outputs": [
    {
     "data": {
      "text/plain": [
       "\u001b[36mres37_0\u001b[39m: \u001b[32mInt\u001b[39m = \u001b[32m784000\u001b[39m\n",
       "\u001b[36mres37_1\u001b[39m: \u001b[32mLong\u001b[39m = \u001b[32m785000L\u001b[39m"
      ]
     },
     "execution_count": 38,
     "metadata": {},
     "output_type": "execute_result"
    }
   ],
   "source": [
    "numRows * numColumns * 1000\n",
    "hidden.numParams"
   ]
  },
  {
   "cell_type": "code",
   "execution_count": 39,
   "metadata": {},
   "outputs": [
    {
     "data": {
      "text/plain": [
       "\u001b[36mparInd\u001b[39m: \u001b[32morg\u001b[39m.\u001b[32mnd4j\u001b[39m.\u001b[32mlinalg\u001b[39m.\u001b[32mapi\u001b[39m.\u001b[32mndarray\u001b[39m.\u001b[32mINDArray\u001b[39m = [[   -0.0168,    0.0603,   -0.0238,  ...    0.0236,    0.0123,    0.0404], \n",
       " [   -0.0172,   -0.0424,   -0.0164,  ...   -0.0098,    0.0307,    0.0497], \n",
       " [    0.0201,    0.0185,   -0.0015,  ...   -0.0116,    0.0134,    0.0248], \n",
       "  ..., \n",
       " [    0.0111,    0.0361,   -0.0239,  ...   -0.0595,   -0.0776,    0.0088], \n",
       " [   -0.0070,    0.0246,    0.0337,  ...   -0.0137,   -0.0334,    0.0407], \n",
       " [    0.0091,    0.0290,   -0.0260,  ...   -0.0167,    0.0515,   -0.0082]]"
      ]
     },
     "execution_count": 39,
     "metadata": {},
     "output_type": "execute_result"
    }
   ],
   "source": [
    "val parInd = params.toVector.head._2"
   ]
  },
  {
   "cell_type": "code",
   "execution_count": 40,
   "metadata": {},
   "outputs": [
    {
     "data": {
      "text/plain": [
       "\u001b[36mres39\u001b[39m: \u001b[32mArray\u001b[39m[\u001b[32mLong\u001b[39m] = \u001b[33mArray\u001b[39m(\u001b[32m784L\u001b[39m, \u001b[32m1000L\u001b[39m)"
      ]
     },
     "execution_count": 40,
     "metadata": {},
     "output_type": "execute_result"
    }
   ],
   "source": [
    "parInd.shape"
   ]
  },
  {
   "cell_type": "code",
   "execution_count": 41,
   "metadata": {},
   "outputs": [
    {
     "data": {
      "text/plain": [
       "\u001b[36mres40\u001b[39m: \u001b[32morg\u001b[39m.\u001b[32mnd4j\u001b[39m.\u001b[32mlinalg\u001b[39m.\u001b[32mapi\u001b[39m.\u001b[32mndarray\u001b[39m.\u001b[32mINDArray\u001b[39m = [[   -0.0168,    0.0603,   -0.0238,  ...    0.0236,    0.0123,    0.0404], \n",
       " [   -0.0172,   -0.0424,   -0.0164,  ...   -0.0098,    0.0307,    0.0497], \n",
       " [    0.0201,    0.0185,   -0.0015,  ...   -0.0116,    0.0134,    0.0248], \n",
       "  ..., \n",
       " [    0.0111,    0.0361,   -0.0239,  ...   -0.0595,   -0.0776,    0.0088], \n",
       " [   -0.0070,    0.0246,    0.0337,  ...   -0.0137,   -0.0334,    0.0407], \n",
       " [    0.0091,    0.0290,   -0.0260,  ...   -0.0167,    0.0515,   -0.0082]]"
      ]
     },
     "execution_count": 41,
     "metadata": {},
     "output_type": "execute_result"
    }
   ],
   "source": [
    "params(\"W\")"
   ]
  },
  {
   "cell_type": "code",
   "execution_count": null,
   "metadata": {},
   "outputs": [],
   "source": []
  }
 ],
 "metadata": {
  "kernelspec": {
   "display_name": "scala-2.13",
   "language": "scala",
   "name": "scala-2.13"
  },
  "language_info": {
   "codemirror_mode": "text/x-scala",
   "file_extension": ".scala",
   "mimetype": "text/x-scala",
   "name": "scala",
   "nbconvert_exporter": "script",
   "version": "2.13.1"
  }
 },
 "nbformat": 4,
 "nbformat_minor": 4
}
