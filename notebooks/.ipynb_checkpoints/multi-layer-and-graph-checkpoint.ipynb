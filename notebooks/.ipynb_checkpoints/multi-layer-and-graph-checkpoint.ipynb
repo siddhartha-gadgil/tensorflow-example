{
 "cells": [
  {
   "cell_type": "code",
   "execution_count": 1,
   "metadata": {},
   "outputs": [
    {
     "data": {
      "text/plain": [
       "\u001b[32mimport \u001b[39m\u001b[36m$ivy.$                                                   \n",
       "\u001b[39m\n",
       "\u001b[32mimport \u001b[39m\u001b[36m$ivy.$                                          \n",
       "\u001b[39m\n",
       "\u001b[32mimport \u001b[39m\u001b[36m$ivy.$                                    \u001b[39m"
      ]
     },
     "execution_count": 1,
     "metadata": {},
     "output_type": "execute_result"
    }
   ],
   "source": [
    "import $ivy.`org.deeplearning4j:deeplearning4j-core:1.0.0-beta6`\n",
    "import $ivy.`org.nd4j:nd4j-native-platform:1.0.0-beta6`\n",
    "import $ivy.`org.datavec:datavec-api:1.0.0-beta6`"
   ]
  },
  {
   "cell_type": "code",
   "execution_count": 2,
   "metadata": {},
   "outputs": [
    {
     "data": {
      "text/plain": [
       "\u001b[32mimport \u001b[39m\u001b[36morg.deeplearning4j.nn.conf.graph.MergeVertex\n",
       "\u001b[39m\n",
       "\u001b[32mimport \u001b[39m\u001b[36morg.deeplearning4j.nn.conf.layers.{DenseLayer, LSTM, OutputLayer, RnnOutputLayer}\n",
       "\u001b[39m\n",
       "\u001b[32mimport \u001b[39m\u001b[36morg.deeplearning4j.nn.conf.{ComputationGraphConfiguration, MultiLayerConfiguration, NeuralNetConfiguration}\n",
       "\u001b[39m\n",
       "\u001b[32mimport \u001b[39m\u001b[36morg.deeplearning4j.nn.graph.ComputationGraph\n",
       "\u001b[39m\n",
       "\u001b[32mimport \u001b[39m\u001b[36morg.deeplearning4j.nn.multilayer.MultiLayerNetwork\n",
       "\u001b[39m\n",
       "\u001b[32mimport \u001b[39m\u001b[36morg.deeplearning4j.nn.weights.WeightInit\n",
       "\u001b[39m\n",
       "\u001b[32mimport \u001b[39m\u001b[36morg.nd4j.linalg.activations.Activation\n",
       "\u001b[39m\n",
       "\u001b[32mimport \u001b[39m\u001b[36morg.nd4j.linalg.learning.config.Nesterovs\n",
       "\u001b[39m\n",
       "\u001b[32mimport \u001b[39m\u001b[36morg.nd4j.linalg.lossfunctions.LossFunctions\u001b[39m"
      ]
     },
     "execution_count": 2,
     "metadata": {},
     "output_type": "execute_result"
    }
   ],
   "source": [
    "import org.deeplearning4j.nn.conf.graph.MergeVertex\n",
    "import org.deeplearning4j.nn.conf.layers.{DenseLayer, LSTM, OutputLayer, RnnOutputLayer}\n",
    "import org.deeplearning4j.nn.conf.{ComputationGraphConfiguration, MultiLayerConfiguration, NeuralNetConfiguration}\n",
    "import org.deeplearning4j.nn.graph.ComputationGraph\n",
    "import org.deeplearning4j.nn.multilayer.MultiLayerNetwork\n",
    "import org.deeplearning4j.nn.weights.WeightInit\n",
    "import org.nd4j.linalg.activations.Activation\n",
    "import org.nd4j.linalg.learning.config.Nesterovs\n",
    "import org.nd4j.linalg.lossfunctions.LossFunctions"
   ]
  },
  {
   "cell_type": "code",
   "execution_count": 3,
   "metadata": {},
   "outputs": [
    {
     "name": "stderr",
     "output_type": "stream",
     "text": [
      "SLF4J: Failed to load class \"org.slf4j.impl.StaticLoggerBinder\".\n",
      "SLF4J: Defaulting to no-operation (NOP) logger implementation\n",
      "SLF4J: See http://www.slf4j.org/codes.html#StaticLoggerBinder for further details.\n"
     ]
    },
    {
     "data": {
      "text/plain": [
       "\u001b[36mmultiLayerConf\u001b[39m: \u001b[32mMultiLayerConfiguration\u001b[39m = {\n",
       "  \"backpropType\" : \"Standard\",\n",
       "  \"cacheMode\" : \"NONE\",\n",
       "  \"confs\" : [ {\n",
       "    \"cacheMode\" : \"NONE\",\n",
       "    \"dataType\" : \"FLOAT\",\n",
       "    \"epochCount\" : 0,\n",
       "    \"iterationCount\" : 0,\n",
       "    \"layer\" : {\n",
       "      \"@class\" : \"org.deeplearning4j.nn.conf.layers.DenseLayer\",\n",
       "      \"activationFn\" : {\n",
       "        \"@class\" : \"org.nd4j.linalg.activations.impl.ActivationReLU\"\n",
       "      },\n",
       "      \"biasInit\" : 0.0,\n",
       "      \"biasUpdater\" : null,\n",
       "      \"constraints\" : null,\n",
       "      \"gainInit\" : 1.0,\n",
       "      \"gradientNormalization\" : \"None\",\n",
       "      \"gradientNormalizationThreshold\" : 1.0,\n",
       "      \"hasBias\" : true,\n",
       "      \"hasLayerNorm\" : false,\n",
       "      \"idropout\" : null,\n",
       "      \"iupdater\" : {\n",
       "        \"@class\" : \"org.nd4j.linalg.learning.config.Nesterovs\",\n",
       "        \"learningRate\" : 0.1,\n",
       "        \"momentum\" : 0.9\n",
       "      },\n",
       "      \"layerName\" : \"layer0\",\n",
       "      \"nin\" : 784,\n",
       "      \"nout\" : 100,\n",
       "      \"regularization\" : [ ],\n",
       "      \"regularizationBias\" : [ ],\n",
       "      \"weightInitFn\" : {\n",
       "        \"@class\" : \"org.deeplearning4j.nn.weights.WeightInitXavier\"\n",
       "      },\n",
       "      \"weightNoise\" : null\n",
       "    },\n",
       "    \"maxNumLineSearchIterations\" : 5,\n",
       "    \"miniBatch\" : true,\n",
       "..."
      ]
     },
     "execution_count": 3,
     "metadata": {},
     "output_type": "execute_result"
    }
   ],
   "source": [
    "val multiLayerConf: MultiLayerConfiguration = new NeuralNetConfiguration.Builder()\n",
    "  .seed(123)\n",
    "  .updater(new Nesterovs(0.1, 0.9)) //High Level Configuration\n",
    "  .list() //For configuring MultiLayerNetwork we call the list method\n",
    "  .layer(0, new DenseLayer.Builder().nIn(784).nOut(100).weightInit(WeightInit.XAVIER).activation(Activation.RELU).build()) //Configuring Layers\n",
    "  .layer(1, new OutputLayer.Builder(LossFunctions.LossFunction.XENT).nIn(100).nOut(10).weightInit(WeightInit.XAVIER).activation(Activation.SIGMOID).build())\n",
    "  .build() //Building Configuration"
   ]
  },
  {
   "cell_type": "code",
   "execution_count": 4,
   "metadata": {},
   "outputs": [
    {
     "data": {
      "text/plain": [
       "\u001b[36mmultiLayerNetwork\u001b[39m: \u001b[32mMultiLayerNetwork\u001b[39m = org.deeplearning4j.nn.multilayer.MultiLayerNetwork@2f5bbe1b"
      ]
     },
     "execution_count": 4,
     "metadata": {},
     "output_type": "execute_result"
    }
   ],
   "source": [
    "val multiLayerNetwork : MultiLayerNetwork = new MultiLayerNetwork(multiLayerConf)"
   ]
  },
  {
   "cell_type": "code",
   "execution_count": 5,
   "metadata": {},
   "outputs": [
    {
     "data": {
      "text/plain": [
       "\u001b[36mres4\u001b[39m: \u001b[32mArray\u001b[39m[\u001b[32morg\u001b[39m.\u001b[32mdeeplearning4j\u001b[39m.\u001b[32mnn\u001b[39m.\u001b[32mapi\u001b[39m.\u001b[32mLayer\u001b[39m] = \u001b[32mnull\u001b[39m"
      ]
     },
     "execution_count": 5,
     "metadata": {},
     "output_type": "execute_result"
    }
   ],
   "source": [
    "multiLayerNetwork.getLayers"
   ]
  },
  {
   "cell_type": "code",
   "execution_count": 6,
   "metadata": {},
   "outputs": [],
   "source": [
    "multiLayerNetwork.init()"
   ]
  },
  {
   "cell_type": "code",
   "execution_count": 7,
   "metadata": {},
   "outputs": [
    {
     "data": {
      "text/plain": [
       "\u001b[36mres6\u001b[39m: \u001b[32mArray\u001b[39m[\u001b[32morg\u001b[39m.\u001b[32mdeeplearning4j\u001b[39m.\u001b[32mnn\u001b[39m.\u001b[32mapi\u001b[39m.\u001b[32mLayer\u001b[39m] = \u001b[33mArray\u001b[39m(\n",
       "  org.deeplearning4j.nn.layers.feedforward.dense.DenseLayer{conf=NeuralNetConfiguration(layer=DenseLayer(super=FeedForwardLayer(super=BaseLayer(activationFn=relu, weightInitFn=org.deeplearning4j.nn.weights.WeightInitXavier@1, biasInit=0.0, gainInit=1.0, regularization=[], regularizationBias=[], iUpdater=Nesterovs(learningRate=0.1, learningRateSchedule=null, momentum=0.9, momentumISchedule=null, momentumSchedule=null), biasUpdater=null, weightNoise=null, gradientNormalization=None, gradientNormalizationThreshold=1.0), nIn=784, nOut=100), hasLayerNorm=false, hasBias=true), miniBatch=true, maxNumLineSearchIterations=5, seed=123, optimizationAlgo=STOCHASTIC_GRADIENT_DESCENT, variables=[W, b], stepFunction=null, minimize=true, cacheMode=NONE, dataType=FLOAT, iterationCount=0, epochCount=0), score=0.0, optimizer=null, listeners=[]},\n",
       "  org.deeplearning4j.nn.layers.OutputLayer{conf=NeuralNetConfiguration(layer=OutputLayer(super=BaseOutputLayer(super=FeedForwardLayer(super=BaseLayer(activationFn=sigmoid, weightInitFn=org.deeplearning4j.nn.weights.WeightInitXavier@1, biasInit=0.0, gainInit=1.0, regularization=[], regularizationBias=[], iUpdater=Nesterovs(learningRate=0.1, learningRateSchedule=null, momentum=0.9, momentumISchedule=null, momentumSchedule=null), biasUpdater=null, weightNoise=null, gradientNormalization=None, gradientNormalizationThreshold=1.0), nIn=100, nOut=10), lossFn=LossBinaryXENT(), hasBias=true)), miniBatch=true, maxNumLineSearchIterations=5, seed=123, optimizationAlgo=STOCHASTIC_GRADIENT_DESCENT, variables=[W, b], stepFunction=null, minimize=true, cacheMode=NONE, dataType=FLOAT, iterationCount=0, epochCount=0), score=0.0, optimizer=null, listeners=[]}\n",
       ")"
      ]
     },
     "execution_count": 7,
     "metadata": {},
     "output_type": "execute_result"
    }
   ],
   "source": [
    "multiLayerNetwork.getLayers"
   ]
  },
  {
   "cell_type": "markdown",
   "metadata": {},
   "source": [
    "## Computation Graph"
   ]
  },
  {
   "cell_type": "code",
   "execution_count": 8,
   "metadata": {},
   "outputs": [
    {
     "data": {
      "text/plain": [
       "\u001b[36mcomputationGraphConf\u001b[39m: \u001b[32mComputationGraphConfiguration\u001b[39m = {\n",
       "  \"backpropType\" : \"Standard\",\n",
       "  \"cacheMode\" : \"NONE\",\n",
       "  \"dataType\" : \"FLOAT\",\n",
       "  \"defaultConfiguration\" : {\n",
       "    \"cacheMode\" : \"NONE\",\n",
       "    \"dataType\" : \"FLOAT\",\n",
       "    \"epochCount\" : 0,\n",
       "    \"iterationCount\" : 0,\n",
       "    \"layer\" : null,\n",
       "    \"maxNumLineSearchIterations\" : 5,\n",
       "    \"miniBatch\" : true,\n",
       "    \"minimize\" : true,\n",
       "    \"optimizationAlgo\" : \"STOCHASTIC_GRADIENT_DESCENT\",\n",
       "    \"seed\" : 123,\n",
       "    \"stepFunction\" : null,\n",
       "    \"variables\" : [ ]\n",
       "  },\n",
       "  \"epochCount\" : 0,\n",
       "  \"inferenceWorkspaceMode\" : \"ENABLED\",\n",
       "  \"iterationCount\" : 0,\n",
       "  \"networkInputs\" : [ \"input\" ],\n",
       "  \"networkOutputs\" : [ \"out1\", \"out2\" ],\n",
       "  \"tbpttBackLength\" : 20,\n",
       "  \"tbpttFwdLength\" : 20,\n",
       "  \"topologicalOrder\" : null,\n",
       "  \"topologicalOrderStr\" : null,\n",
       "  \"trainingWorkspaceMode\" : \"ENABLED\",\n",
       "  \"validateOutputLayerConfig\" : true,\n",
       "  \"vertexInputs\" : {\n",
       "    \"L1\" : [ \"input\" ],\n",
       "    \"out1\" : [ \"L1\" ],\n",
       "    \"out2\" : [ \"L1\" ]\n",
       "  },\n",
       "  \"vertices\" : {\n",
       "    \"L1\" : {\n",
       "      \"@class\" : \"org.deeplearning4j.nn.conf.graph.LayerVertex\",\n",
       "      \"layerConf\" : {\n",
       "        \"cacheMode\" : \"NONE\",\n",
       "..."
      ]
     },
     "execution_count": 8,
     "metadata": {},
     "output_type": "execute_result"
    }
   ],
   "source": [
    "val computationGraphConf : ComputationGraphConfiguration = new NeuralNetConfiguration.Builder()\n",
    "      .seed(123)\n",
    "      .updater(new Nesterovs(0.1, 0.9)) //High Level Configuration\n",
    "      .graphBuilder()  //For configuring ComputationGraph we call the graphBuilder method\n",
    "      .addInputs(\"input\") //Configuring Layers\n",
    "      .addLayer(\"L1\", new DenseLayer.Builder().nIn(3).nOut(4).build(), \"input\")\n",
    "      .addLayer(\"out1\", new OutputLayer.Builder().lossFunction(LossFunctions.LossFunction.NEGATIVELOGLIKELIHOOD).nIn(4).nOut(3).build(), \"L1\")\n",
    "      .addLayer(\"out2\", new OutputLayer.Builder().lossFunction(LossFunctions.LossFunction.MSE).nIn(4).nOut(2).build(), \"L1\")\n",
    "      .setOutputs(\"out1\",\"out2\")\n",
    "      .build() //Building configuration"
   ]
  },
  {
   "cell_type": "code",
   "execution_count": 9,
   "metadata": {},
   "outputs": [
    {
     "name": "stdout",
     "output_type": "stream",
     "text": [
      "{\n",
      "  \"backpropType\" : \"Standard\",\n",
      "  \"cacheMode\" : \"NONE\",\n",
      "  \"dataType\" : \"FLOAT\",\n",
      "  \"defaultConfiguration\" : {\n",
      "    \"cacheMode\" : \"NONE\",\n",
      "    \"dataType\" : \"FLOAT\",\n",
      "    \"epochCount\" : 0,\n",
      "    \"iterationCount\" : 0,\n",
      "    \"layer\" : null,\n",
      "    \"maxNumLineSearchIterations\" : 5,\n",
      "    \"miniBatch\" : true,\n",
      "    \"minimize\" : true,\n",
      "    \"optimizationAlgo\" : \"STOCHASTIC_GRADIENT_DESCENT\",\n",
      "    \"seed\" : 123,\n",
      "    \"stepFunction\" : null,\n",
      "    \"variables\" : [ ]\n",
      "  },\n",
      "  \"epochCount\" : 0,\n",
      "  \"inferenceWorkspaceMode\" : \"ENABLED\",\n",
      "  \"iterationCount\" : 0,\n",
      "  \"networkInputs\" : [ \"input\" ],\n",
      "  \"networkOutputs\" : [ \"out1\", \"out2\" ],\n",
      "  \"tbpttBackLength\" : 20,\n",
      "  \"tbpttFwdLength\" : 20,\n",
      "  \"topologicalOrder\" : null,\n",
      "  \"topologicalOrderStr\" : null,\n",
      "  \"trainingWorkspaceMode\" : \"ENABLED\",\n",
      "  \"validateOutputLayerConfig\" : true,\n",
      "  \"vertexInputs\" : {\n",
      "    \"L1\" : [ \"input\" ],\n",
      "    \"out1\" : [ \"L1\" ],\n",
      "    \"out2\" : [ \"L1\" ]\n",
      "  },\n",
      "  \"vertices\" : {\n",
      "    \"L1\" : {\n",
      "      \"@class\" : \"org.deeplearning4j.nn.conf.graph.LayerVertex\",\n",
      "      \"layerConf\" : {\n",
      "        \"cacheMode\" : \"NONE\",\n",
      "        \"dataType\" : \"FLOAT\",\n",
      "        \"epochCount\" : 0,\n",
      "        \"iterationCount\" : 0,\n",
      "        \"layer\" : {\n",
      "          \"@class\" : \"org.deeplearning4j.nn.conf.layers.DenseLayer\",\n",
      "          \"activationFn\" : {\n",
      "            \"@class\" : \"org.nd4j.linalg.activations.impl.ActivationSigmoid\"\n",
      "          },\n",
      "          \"biasInit\" : 0.0,\n",
      "          \"biasUpdater\" : null,\n",
      "          \"constraints\" : null,\n",
      "          \"gainInit\" : 1.0,\n",
      "          \"gradientNormalization\" : \"None\",\n",
      "          \"gradientNormalizationThreshold\" : 1.0,\n",
      "          \"hasBias\" : true,\n",
      "          \"hasLayerNorm\" : false,\n",
      "          \"idropout\" : null,\n",
      "          \"iupdater\" : {\n",
      "            \"@class\" : \"org.nd4j.linalg.learning.config.Nesterovs\",\n",
      "            \"learningRate\" : 0.1,\n",
      "            \"momentum\" : 0.9\n",
      "          },\n",
      "          \"layerName\" : \"L1\",\n",
      "          \"nin\" : 3,\n",
      "          \"nout\" : 4,\n",
      "          \"regularization\" : [ ],\n",
      "          \"regularizationBias\" : [ ],\n",
      "          \"weightInitFn\" : {\n",
      "            \"@class\" : \"org.deeplearning4j.nn.weights.WeightInitXavier\"\n",
      "          },\n",
      "          \"weightNoise\" : null\n",
      "        },\n",
      "        \"maxNumLineSearchIterations\" : 5,\n",
      "        \"miniBatch\" : true,\n",
      "        \"minimize\" : true,\n",
      "        \"optimizationAlgo\" : \"STOCHASTIC_GRADIENT_DESCENT\",\n",
      "        \"seed\" : 123,\n",
      "        \"stepFunction\" : null,\n",
      "        \"variables\" : [ ]\n",
      "      },\n",
      "      \"outputVertex\" : false,\n",
      "      \"preProcessor\" : null\n",
      "    },\n",
      "    \"out1\" : {\n",
      "      \"@class\" : \"org.deeplearning4j.nn.conf.graph.LayerVertex\",\n",
      "      \"layerConf\" : {\n",
      "        \"cacheMode\" : \"NONE\",\n",
      "        \"dataType\" : \"FLOAT\",\n",
      "        \"epochCount\" : 0,\n",
      "        \"iterationCount\" : 0,\n",
      "        \"layer\" : {\n",
      "          \"@class\" : \"org.deeplearning4j.nn.conf.layers.OutputLayer\",\n",
      "          \"activationFn\" : {\n",
      "            \"@class\" : \"org.nd4j.linalg.activations.impl.ActivationSoftmax\"\n",
      "          },\n",
      "          \"biasInit\" : 0.0,\n",
      "          \"biasUpdater\" : null,\n",
      "          \"constraints\" : null,\n",
      "          \"gainInit\" : 1.0,\n",
      "          \"gradientNormalization\" : \"None\",\n",
      "          \"gradientNormalizationThreshold\" : 1.0,\n",
      "          \"hasBias\" : true,\n",
      "          \"idropout\" : null,\n",
      "          \"iupdater\" : {\n",
      "            \"@class\" : \"org.nd4j.linalg.learning.config.Nesterovs\",\n",
      "            \"learningRate\" : 0.1,\n",
      "            \"momentum\" : 0.9\n",
      "          },\n",
      "          \"layerName\" : \"out1\",\n",
      "          \"lossFn\" : {\n",
      "            \"@class\" : \"org.nd4j.linalg.lossfunctions.impl.LossNegativeLogLikelihood\",\n",
      "            \"softmaxClipEps\" : 1.0E-10\n",
      "          },\n",
      "          \"nin\" : 4,\n",
      "          \"nout\" : 3,\n",
      "          \"regularization\" : [ ],\n",
      "          \"regularizationBias\" : [ ],\n",
      "          \"weightInitFn\" : {\n",
      "            \"@class\" : \"org.deeplearning4j.nn.weights.WeightInitXavier\"\n",
      "          },\n",
      "          \"weightNoise\" : null\n",
      "        },\n",
      "        \"maxNumLineSearchIterations\" : 5,\n",
      "        \"miniBatch\" : true,\n",
      "        \"minimize\" : true,\n",
      "        \"optimizationAlgo\" : \"STOCHASTIC_GRADIENT_DESCENT\",\n",
      "        \"seed\" : 123,\n",
      "        \"stepFunction\" : null,\n",
      "        \"variables\" : [ ]\n",
      "      },\n",
      "      \"outputVertex\" : false,\n",
      "      \"preProcessor\" : null\n",
      "    },\n",
      "    \"out2\" : {\n",
      "      \"@class\" : \"org.deeplearning4j.nn.conf.graph.LayerVertex\",\n",
      "      \"layerConf\" : {\n",
      "        \"cacheMode\" : \"NONE\",\n",
      "        \"dataType\" : \"FLOAT\",\n",
      "        \"epochCount\" : 0,\n",
      "        \"iterationCount\" : 0,\n",
      "        \"layer\" : {\n",
      "          \"@class\" : \"org.deeplearning4j.nn.conf.layers.OutputLayer\",\n",
      "          \"activationFn\" : {\n",
      "            \"@class\" : \"org.nd4j.linalg.activations.impl.ActivationSoftmax\"\n",
      "          },\n",
      "          \"biasInit\" : 0.0,\n",
      "          \"biasUpdater\" : null,\n",
      "          \"constraints\" : null,\n",
      "          \"gainInit\" : 1.0,\n",
      "          \"gradientNormalization\" : \"None\",\n",
      "          \"gradientNormalizationThreshold\" : 1.0,\n",
      "          \"hasBias\" : true,\n",
      "          \"idropout\" : null,\n",
      "          \"iupdater\" : {\n",
      "            \"@class\" : \"org.nd4j.linalg.learning.config.Nesterovs\",\n",
      "            \"learningRate\" : 0.1,\n",
      "            \"momentum\" : 0.9\n",
      "          },\n",
      "          \"layerName\" : \"out2\",\n",
      "          \"lossFn\" : {\n",
      "            \"@class\" : \"org.nd4j.linalg.lossfunctions.impl.LossMSE\"\n",
      "          },\n",
      "          \"nin\" : 4,\n",
      "          \"nout\" : 2,\n",
      "          \"regularization\" : [ ],\n",
      "          \"regularizationBias\" : [ ],\n",
      "          \"weightInitFn\" : {\n",
      "            \"@class\" : \"org.deeplearning4j.nn.weights.WeightInitXavier\"\n",
      "          },\n",
      "          \"weightNoise\" : null\n",
      "        },\n",
      "        \"maxNumLineSearchIterations\" : 5,\n",
      "        \"miniBatch\" : true,\n",
      "        \"minimize\" : true,\n",
      "        \"optimizationAlgo\" : \"STOCHASTIC_GRADIENT_DESCENT\",\n",
      "        \"seed\" : 123,\n",
      "        \"stepFunction\" : null,\n",
      "        \"variables\" : [ ]\n",
      "      },\n",
      "      \"outputVertex\" : false,\n",
      "      \"preProcessor\" : null\n",
      "    }\n",
      "  }\n",
      "}\n"
     ]
    }
   ],
   "source": [
    "println(computationGraphConf.toJson)"
   ]
  },
  {
   "cell_type": "code",
   "execution_count": 10,
   "metadata": {},
   "outputs": [
    {
     "data": {
      "text/plain": [
       "\u001b[36mcomputationGraph\u001b[39m: \u001b[32mComputationGraph\u001b[39m = org.deeplearning4j.nn.graph.ComputationGraph@491ebd34"
      ]
     },
     "execution_count": 10,
     "metadata": {},
     "output_type": "execute_result"
    }
   ],
   "source": [
    "val computationGraph : ComputationGraph = new ComputationGraph(computationGraphConf)"
   ]
  },
  {
   "cell_type": "code",
   "execution_count": 11,
   "metadata": {},
   "outputs": [],
   "source": [
    "computationGraph.init()"
   ]
  },
  {
   "cell_type": "code",
   "execution_count": 12,
   "metadata": {},
   "outputs": [
    {
     "data": {
      "text/plain": [
       "\u001b[36mres11\u001b[39m: \u001b[32mArray\u001b[39m[\u001b[32morg\u001b[39m.\u001b[32mdeeplearning4j\u001b[39m.\u001b[32mnn\u001b[39m.\u001b[32mapi\u001b[39m.\u001b[32mLayer\u001b[39m] = \u001b[33mArray\u001b[39m(\n",
       "  org.deeplearning4j.nn.layers.feedforward.dense.DenseLayer{conf=NeuralNetConfiguration(layer=DenseLayer(super=FeedForwardLayer(super=BaseLayer(activationFn=sigmoid, weightInitFn=org.deeplearning4j.nn.weights.WeightInitXavier@1, biasInit=0.0, gainInit=1.0, regularization=[], regularizationBias=[], iUpdater=Nesterovs(learningRate=0.1, learningRateSchedule=null, momentum=0.9, momentumISchedule=null, momentumSchedule=null), biasUpdater=null, weightNoise=null, gradientNormalization=None, gradientNormalizationThreshold=1.0), nIn=3, nOut=4), hasLayerNorm=false, hasBias=true), miniBatch=true, maxNumLineSearchIterations=5, seed=123, optimizationAlgo=STOCHASTIC_GRADIENT_DESCENT, variables=[W, b], stepFunction=null, minimize=true, cacheMode=NONE, dataType=FLOAT, iterationCount=0, epochCount=0), score=0.0, optimizer=null, listeners=[]},\n",
       "  org.deeplearning4j.nn.layers.OutputLayer{conf=NeuralNetConfiguration(layer=OutputLayer(super=BaseOutputLayer(super=FeedForwardLayer(super=BaseLayer(activationFn=softmax, weightInitFn=org.deeplearning4j.nn.weights.WeightInitXavier@1, biasInit=0.0, gainInit=1.0, regularization=[], regularizationBias=[], iUpdater=Nesterovs(learningRate=0.1, learningRateSchedule=null, momentum=0.9, momentumISchedule=null, momentumSchedule=null), biasUpdater=null, weightNoise=null, gradientNormalization=None, gradientNormalizationThreshold=1.0), nIn=4, nOut=3), lossFn=LossNegativeLogLikelihood(), hasBias=true)), miniBatch=true, maxNumLineSearchIterations=5, seed=123, optimizationAlgo=STOCHASTIC_GRADIENT_DESCENT, variables=[W, b], stepFunction=null, minimize=true, cacheMode=NONE, dataType=FLOAT, iterationCount=0, epochCount=0), score=0.0, optimizer=null, listeners=[]},\n",
       "  org.deeplearning4j.nn.layers.OutputLayer{conf=NeuralNetConfiguration(layer=OutputLayer(super=BaseOutputLayer(super=FeedForwardLayer(super=BaseLayer(activationFn=softmax, weightInitFn=org.deeplearning4j.nn.weights.WeightInitXavier@1, biasInit=0.0, gainInit=1.0, regularization=[], regularizationBias=[], iUpdater=Nesterovs(learningRate=0.1, learningRateSchedule=null, momentum=0.9, momentumISchedule=null, momentumSchedule=null), biasUpdater=null, weightNoise=null, gradientNormalization=None, gradientNormalizationThreshold=1.0), nIn=4, nOut=2), lossFn=LossMSE(), hasBias=true)), miniBatch=true, maxNumLineSearchIterations=5, seed=123, optimizationAlgo=STOCHASTIC_GRADIENT_DESCENT, variables=[W, b], stepFunction=null, minimize=true, cacheMode=NONE, dataType=FLOAT, iterationCount=0, epochCount=0), score=0.0, optimizer=null, listeners=[]}\n",
       ")"
      ]
     },
     "execution_count": 12,
     "metadata": {},
     "output_type": "execute_result"
    }
   ],
   "source": [
    "computationGraph.getLayers"
   ]
  },
  {
   "cell_type": "code",
   "execution_count": 13,
   "metadata": {},
   "outputs": [
    {
     "data": {
      "text/plain": [
       "\u001b[36mcgConf1\u001b[39m: \u001b[32mComputationGraphConfiguration\u001b[39m = {\n",
       "  \"backpropType\" : \"Standard\",\n",
       "  \"cacheMode\" : \"NONE\",\n",
       "  \"dataType\" : \"FLOAT\",\n",
       "  \"defaultConfiguration\" : {\n",
       "    \"cacheMode\" : \"NONE\",\n",
       "    \"dataType\" : \"FLOAT\",\n",
       "    \"epochCount\" : 0,\n",
       "    \"iterationCount\" : 0,\n",
       "    \"layer\" : null,\n",
       "    \"maxNumLineSearchIterations\" : 5,\n",
       "    \"miniBatch\" : true,\n",
       "    \"minimize\" : true,\n",
       "    \"optimizationAlgo\" : \"STOCHASTIC_GRADIENT_DESCENT\",\n",
       "    \"seed\" : 1585736072672,\n",
       "    \"stepFunction\" : null,\n",
       "    \"variables\" : [ ]\n",
       "  },\n",
       "  \"epochCount\" : 0,\n",
       "  \"inferenceWorkspaceMode\" : \"ENABLED\",\n",
       "  \"iterationCount\" : 0,\n",
       "  \"networkInputs\" : [ \"input\" ],\n",
       "  \"networkOutputs\" : [ \"L2\" ],\n",
       "  \"tbpttBackLength\" : 20,\n",
       "  \"tbpttFwdLength\" : 20,\n",
       "  \"topologicalOrder\" : null,\n",
       "  \"topologicalOrderStr\" : null,\n",
       "  \"trainingWorkspaceMode\" : \"ENABLED\",\n",
       "  \"validateOutputLayerConfig\" : true,\n",
       "  \"vertexInputs\" : {\n",
       "    \"L1\" : [ \"input\" ],\n",
       "    \"L2-merge\" : [ \"input\", \"L1\" ],\n",
       "    \"L2\" : [ \"L2-merge\" ]\n",
       "  },\n",
       "  \"vertices\" : {\n",
       "    \"L1\" : {\n",
       "      \"@class\" : \"org.deeplearning4j.nn.conf.graph.LayerVertex\",\n",
       "      \"layerConf\" : {\n",
       "        \"cacheMode\" : \"NONE\",\n",
       "..."
      ]
     },
     "execution_count": 13,
     "metadata": {},
     "output_type": "execute_result"
    }
   ],
   "source": [
    "val cgConf1 : ComputationGraphConfiguration = new NeuralNetConfiguration.Builder()\n",
    "        .graphBuilder()\n",
    "        .addInputs(\"input\") //can use any label for this\n",
    "        .addLayer(\"L1\", new LSTM.Builder().nIn(5).nOut(5).build(), \"input\")\n",
    "        .addLayer(\"L2\",new RnnOutputLayer.Builder().nIn(5+5).nOut(5).build(), \"input\", \"L1\")\n",
    "        .setOutputs(\"L2\")\n",
    "        .build();"
   ]
  },
  {
   "cell_type": "code",
   "execution_count": 14,
   "metadata": {},
   "outputs": [
    {
     "data": {
      "text/plain": [
       "\u001b[36mcgConf2\u001b[39m: \u001b[32mComputationGraphConfiguration\u001b[39m = {\n",
       "  \"backpropType\" : \"Standard\",\n",
       "  \"cacheMode\" : \"NONE\",\n",
       "  \"dataType\" : \"FLOAT\",\n",
       "  \"defaultConfiguration\" : {\n",
       "    \"cacheMode\" : \"NONE\",\n",
       "    \"dataType\" : \"FLOAT\",\n",
       "    \"epochCount\" : 0,\n",
       "    \"iterationCount\" : 0,\n",
       "    \"layer\" : null,\n",
       "    \"maxNumLineSearchIterations\" : 5,\n",
       "    \"miniBatch\" : true,\n",
       "    \"minimize\" : true,\n",
       "    \"optimizationAlgo\" : \"STOCHASTIC_GRADIENT_DESCENT\",\n",
       "    \"seed\" : 1585736162837,\n",
       "    \"stepFunction\" : null,\n",
       "    \"variables\" : [ ]\n",
       "  },\n",
       "  \"epochCount\" : 0,\n",
       "  \"inferenceWorkspaceMode\" : \"ENABLED\",\n",
       "  \"iterationCount\" : 0,\n",
       "  \"networkInputs\" : [ \"input1\", \"input2\" ],\n",
       "  \"networkOutputs\" : [ \"out\" ],\n",
       "  \"tbpttBackLength\" : 20,\n",
       "  \"tbpttFwdLength\" : 20,\n",
       "  \"topologicalOrder\" : null,\n",
       "  \"topologicalOrderStr\" : null,\n",
       "  \"trainingWorkspaceMode\" : \"ENABLED\",\n",
       "  \"validateOutputLayerConfig\" : true,\n",
       "  \"vertexInputs\" : {\n",
       "    \"L1\" : [ \"input1\" ],\n",
       "    \"L2\" : [ \"input2\" ],\n",
       "    \"merge\" : [ \"L1\", \"L2\" ],\n",
       "    \"out\" : [ \"merge\" ]\n",
       "  },\n",
       "  \"vertices\" : {\n",
       "    \"L1\" : {\n",
       "      \"@class\" : \"org.deeplearning4j.nn.conf.graph.LayerVertex\",\n",
       "      \"layerConf\" : {\n",
       "..."
      ]
     },
     "execution_count": 14,
     "metadata": {},
     "output_type": "execute_result"
    }
   ],
   "source": [
    "//Here MergeVertex concatenates the layer outputs\n",
    "val cgConf2 : ComputationGraphConfiguration = new NeuralNetConfiguration.Builder()\n",
    "        .graphBuilder()\n",
    "        .addInputs(\"input1\", \"input2\")\n",
    "        .addLayer(\"L1\", new DenseLayer.Builder().nIn(3).nOut(4).build(), \"input1\")\n",
    "        .addLayer(\"L2\", new DenseLayer.Builder().nIn(3).nOut(4).build(), \"input2\")\n",
    "        .addVertex(\"merge\", new MergeVertex(), \"L1\", \"L2\")\n",
    "        .addLayer(\"out\", new OutputLayer.Builder().nIn(4+4).nOut(3).build(), \"merge\")\n",
    "        .setOutputs(\"out\")\n",
    "        .build();"
   ]
  },
  {
   "cell_type": "code",
   "execution_count": 15,
   "metadata": {},
   "outputs": [
    {
     "data": {
      "text/plain": [
       "\u001b[36mcgConf3\u001b[39m: \u001b[32mComputationGraphConfiguration\u001b[39m = {\n",
       "  \"backpropType\" : \"Standard\",\n",
       "  \"cacheMode\" : \"NONE\",\n",
       "  \"dataType\" : \"FLOAT\",\n",
       "  \"defaultConfiguration\" : {\n",
       "    \"cacheMode\" : \"NONE\",\n",
       "    \"dataType\" : \"FLOAT\",\n",
       "    \"epochCount\" : 0,\n",
       "    \"iterationCount\" : 0,\n",
       "    \"layer\" : null,\n",
       "    \"maxNumLineSearchIterations\" : 5,\n",
       "    \"miniBatch\" : true,\n",
       "    \"minimize\" : true,\n",
       "    \"optimizationAlgo\" : \"STOCHASTIC_GRADIENT_DESCENT\",\n",
       "    \"seed\" : 1585736272797,\n",
       "    \"stepFunction\" : null,\n",
       "    \"variables\" : [ ]\n",
       "  },\n",
       "  \"epochCount\" : 0,\n",
       "  \"inferenceWorkspaceMode\" : \"ENABLED\",\n",
       "  \"iterationCount\" : 0,\n",
       "  \"networkInputs\" : [ \"input\" ],\n",
       "  \"networkOutputs\" : [ \"out1\", \"out2\" ],\n",
       "  \"tbpttBackLength\" : 20,\n",
       "  \"tbpttFwdLength\" : 20,\n",
       "  \"topologicalOrder\" : null,\n",
       "  \"topologicalOrderStr\" : null,\n",
       "  \"trainingWorkspaceMode\" : \"ENABLED\",\n",
       "  \"validateOutputLayerConfig\" : true,\n",
       "  \"vertexInputs\" : {\n",
       "    \"L1\" : [ \"input\" ],\n",
       "    \"out1\" : [ \"L1\" ],\n",
       "    \"out2\" : [ \"L1\" ]\n",
       "  },\n",
       "  \"vertices\" : {\n",
       "    \"L1\" : {\n",
       "      \"@class\" : \"org.deeplearning4j.nn.conf.graph.LayerVertex\",\n",
       "      \"layerConf\" : {\n",
       "        \"cacheMode\" : \"NONE\",\n",
       "..."
      ]
     },
     "execution_count": 15,
     "metadata": {},
     "output_type": "execute_result"
    }
   ],
   "source": [
    "val cgConf3 : ComputationGraphConfiguration = new NeuralNetConfiguration.Builder()\n",
    "        .graphBuilder()\n",
    "        .addInputs(\"input\")\n",
    "        .addLayer(\"L1\", new DenseLayer.Builder().nIn(3).nOut(4).build(), \"input\")\n",
    "        .addLayer(\"out1\", new OutputLayer.Builder()\n",
    "                .lossFunction(LossFunctions.LossFunction.NEGATIVELOGLIKELIHOOD)\n",
    "                .nIn(4).nOut(3).build(), \"L1\")\n",
    "        .addLayer(\"out2\", new OutputLayer.Builder()\n",
    "                .lossFunction(LossFunctions.LossFunction.MSE)\n",
    "                .nIn(4).nOut(2).build(), \"L1\")\n",
    "        .setOutputs(\"out1\",\"out2\")\n",
    "        .build();"
   ]
  },
  {
   "cell_type": "code",
   "execution_count": null,
   "metadata": {},
   "outputs": [],
   "source": []
  }
 ],
 "metadata": {
  "kernelspec": {
   "display_name": "scala-2.13",
   "language": "scala",
   "name": "scala-2.13"
  },
  "language_info": {
   "codemirror_mode": "text/x-scala",
   "file_extension": ".scala",
   "mimetype": "text/x-scala",
   "name": "scala",
   "nbconvert_exporter": "script",
   "version": "2.13.1"
  }
 },
 "nbformat": 4,
 "nbformat_minor": 4
}
